{
  "cells": [
    {
      "cell_type": "code",
      "execution_count": null,
      "id": "9tvZNuysv1gd",
      "metadata": {
        "colab": {
          "base_uri": "https://localhost:8080/"
        },
        "id": "9tvZNuysv1gd",
        "outputId": "7db85b55-6701-4744-b47c-e9fb76f277e5"
      },
      "outputs": [
        {
          "name": "stdout",
          "output_type": "stream",
          "text": [
            "Collecting catboost\n",
            "  Downloading catboost-1.2.2-cp310-cp310-manylinux2014_x86_64.whl (98.7 MB)\n",
            "\u001b[2K     \u001b[90m━━━━━━━━━━━━━━━━━━━━━━━━━━━━━━━━━━━━━━━━\u001b[0m \u001b[32m98.7/98.7 MB\u001b[0m \u001b[31m9.2 MB/s\u001b[0m eta \u001b[36m0:00:00\u001b[0m\n",
            "\u001b[?25hRequirement already satisfied: graphviz in /usr/local/lib/python3.10/dist-packages (from catboost) (0.20.1)\n",
            "Requirement already satisfied: matplotlib in /usr/local/lib/python3.10/dist-packages (from catboost) (3.7.1)\n",
            "Requirement already satisfied: numpy>=1.16.0 in /usr/local/lib/python3.10/dist-packages (from catboost) (1.23.5)\n",
            "Requirement already satisfied: pandas>=0.24 in /usr/local/lib/python3.10/dist-packages (from catboost) (1.5.3)\n",
            "Requirement already satisfied: scipy in /usr/local/lib/python3.10/dist-packages (from catboost) (1.11.4)\n",
            "Requirement already satisfied: plotly in /usr/local/lib/python3.10/dist-packages (from catboost) (5.15.0)\n",
            "Requirement already satisfied: six in /usr/local/lib/python3.10/dist-packages (from catboost) (1.16.0)\n",
            "Requirement already satisfied: python-dateutil>=2.8.1 in /usr/local/lib/python3.10/dist-packages (from pandas>=0.24->catboost) (2.8.2)\n",
            "Requirement already satisfied: pytz>=2020.1 in /usr/local/lib/python3.10/dist-packages (from pandas>=0.24->catboost) (2023.3.post1)\n",
            "Requirement already satisfied: contourpy>=1.0.1 in /usr/local/lib/python3.10/dist-packages (from matplotlib->catboost) (1.2.0)\n",
            "Requirement already satisfied: cycler>=0.10 in /usr/local/lib/python3.10/dist-packages (from matplotlib->catboost) (0.12.1)\n",
            "Requirement already satisfied: fonttools>=4.22.0 in /usr/local/lib/python3.10/dist-packages (from matplotlib->catboost) (4.46.0)\n",
            "Requirement already satisfied: kiwisolver>=1.0.1 in /usr/local/lib/python3.10/dist-packages (from matplotlib->catboost) (1.4.5)\n",
            "Requirement already satisfied: packaging>=20.0 in /usr/local/lib/python3.10/dist-packages (from matplotlib->catboost) (23.2)\n",
            "Requirement already satisfied: pillow>=6.2.0 in /usr/local/lib/python3.10/dist-packages (from matplotlib->catboost) (9.4.0)\n",
            "Requirement already satisfied: pyparsing>=2.3.1 in /usr/local/lib/python3.10/dist-packages (from matplotlib->catboost) (3.1.1)\n",
            "Requirement already satisfied: tenacity>=6.2.0 in /usr/local/lib/python3.10/dist-packages (from plotly->catboost) (8.2.3)\n",
            "Installing collected packages: catboost\n",
            "Successfully installed catboost-1.2.2\n"
          ]
        }
      ],
      "source": [
        "!pip install catboost"
      ]
    },
    {
      "cell_type": "code",
      "execution_count": null,
      "id": "065a2fcc-33aa-4632-8184-c627a07702d1",
      "metadata": {
        "id": "065a2fcc-33aa-4632-8184-c627a07702d1"
      },
      "outputs": [],
      "source": [
        "\n",
        "import pandas as pd\n",
        "import numpy as np\n",
        "from numpy import where\n",
        "\n",
        "import seaborn as sns\n",
        "sns.set_theme(style=\"whitegrid\")\n",
        "import matplotlib.pyplot as plt\n",
        "\n",
        "from sklearn import preprocessing\n",
        "from sklearn.preprocessing import OneHotEncoder\n",
        "from sklearn.model_selection import train_test_split\n",
        "from sklearn.preprocessing import StandardScaler\n",
        "from sklearn.metrics import make_scorer, accuracy_score, precision_score, recall_score, f1_score, log_loss\n",
        "from sklearn.model_selection import cross_val_score\n",
        "\n",
        "\n",
        "from plotly.subplots import make_subplots\n",
        "import plotly.graph_objs as go\n",
        "from collections import Counter\n",
        "\n",
        "\n",
        "from imblearn.over_sampling import RandomOverSampler\n",
        "import warnings\n",
        "warnings.filterwarnings(action='ignore')\n",
        "from tabulate import tabulate\n",
        "\n",
        "import imblearn\n",
        "from imblearn.over_sampling import SMOTE\n",
        "from imblearn.under_sampling import RandomUnderSampler\n",
        "from imblearn.ensemble import BalancedRandomForestClassifier\n",
        "\n",
        "from sklearn.ensemble import RandomForestClassifier, AdaBoostClassifier, GradientBoostingClassifier ,ExtraTreesClassifier\n",
        "from xgboost import XGBClassifier,plot_tree\n",
        "from lightgbm import LGBMClassifier\n",
        "import catboost as cb\n",
        "from catboost import CatBoostClassifier,Pool\n",
        "import optuna\n",
        "from optuna.integration import CatBoostPruningCallback\n",
        "import xgboost as xgb\n",
        "\n",
        "from sklearn.ensemble import BaggingClassifier\n",
        "from sklearn.datasets import make_classification\n",
        "\n",
        "from sklearn.svm import SVC\n",
        "from sklearn.tree import DecisionTreeClassifier\n",
        "from sklearn.neighbors import KNeighborsClassifier"
      ]
    },
    {
      "cell_type": "code",
      "execution_count": null,
      "id": "f781c2e2-81ad-40cc-99da-1d2f5929935a",
      "metadata": {
        "id": "f781c2e2-81ad-40cc-99da-1d2f5929935a"
      },
      "outputs": [],
      "source": [
        "from sklearn.model_selection import cross_validate\n",
        "from sklearn.metrics import make_scorer, accuracy_score, precision_score, recall_score, f1_score"
      ]
    },
    {
      "cell_type": "code",
      "execution_count": null,
      "id": "141bad92-717c-4928-b354-2a39086fbc1e",
      "metadata": {
        "id": "141bad92-717c-4928-b354-2a39086fbc1e"
      },
      "outputs": [],
      "source": [
        "from mlxtend.classifier import EnsembleVoteClassifier\n",
        "from sklearn.metrics import classification_report, confusion_matrix, log_loss"
      ]
    },
    {
      "cell_type": "code",
      "execution_count": null,
      "id": "0b7fd0ef-23ad-494d-9cdf-d673d729f489",
      "metadata": {
        "id": "0b7fd0ef-23ad-494d-9cdf-d673d729f489"
      },
      "outputs": [],
      "source": [
        "from hyperopt import fmin, tpe, hp, rand, Trials, STATUS_OK"
      ]
    },
    {
      "cell_type": "code",
      "execution_count": null,
      "id": "5da727d2-019c-4c13-bdf7-c4a03a182e00",
      "metadata": {
        "id": "5da727d2-019c-4c13-bdf7-c4a03a182e00"
      },
      "outputs": [],
      "source": [
        "import time"
      ]
    },
    {
      "cell_type": "code",
      "source": [
        "from google.colab import files\n",
        "uploaded = files.upload()"
      ],
      "metadata": {
        "colab": {
          "base_uri": "https://localhost:8080/",
          "height": 38
        },
        "id": "RAqXSbFKyaR4",
        "outputId": "a791728d-ad74-408c-fb58-51be08cda82f"
      },
      "id": "RAqXSbFKyaR4",
      "execution_count": null,
      "outputs": [
        {
          "output_type": "display_data",
          "data": {
            "text/plain": [
              "<IPython.core.display.HTML object>"
            ],
            "text/html": [
              "\n",
              "     <input type=\"file\" id=\"files-aec69264-53e4-4d8d-91e1-852e82036710\" name=\"files[]\" multiple disabled\n",
              "        style=\"border:none\" />\n",
              "     <output id=\"result-aec69264-53e4-4d8d-91e1-852e82036710\">\n",
              "      Upload widget is only available when the cell has been executed in the\n",
              "      current browser session. Please rerun this cell to enable.\n",
              "      </output>\n",
              "      <script>// Copyright 2017 Google LLC\n",
              "//\n",
              "// Licensed under the Apache License, Version 2.0 (the \"License\");\n",
              "// you may not use this file except in compliance with the License.\n",
              "// You may obtain a copy of the License at\n",
              "//\n",
              "//      http://www.apache.org/licenses/LICENSE-2.0\n",
              "//\n",
              "// Unless required by applicable law or agreed to in writing, software\n",
              "// distributed under the License is distributed on an \"AS IS\" BASIS,\n",
              "// WITHOUT WARRANTIES OR CONDITIONS OF ANY KIND, either express or implied.\n",
              "// See the License for the specific language governing permissions and\n",
              "// limitations under the License.\n",
              "\n",
              "/**\n",
              " * @fileoverview Helpers for google.colab Python module.\n",
              " */\n",
              "(function(scope) {\n",
              "function span(text, styleAttributes = {}) {\n",
              "  const element = document.createElement('span');\n",
              "  element.textContent = text;\n",
              "  for (const key of Object.keys(styleAttributes)) {\n",
              "    element.style[key] = styleAttributes[key];\n",
              "  }\n",
              "  return element;\n",
              "}\n",
              "\n",
              "// Max number of bytes which will be uploaded at a time.\n",
              "const MAX_PAYLOAD_SIZE = 100 * 1024;\n",
              "\n",
              "function _uploadFiles(inputId, outputId) {\n",
              "  const steps = uploadFilesStep(inputId, outputId);\n",
              "  const outputElement = document.getElementById(outputId);\n",
              "  // Cache steps on the outputElement to make it available for the next call\n",
              "  // to uploadFilesContinue from Python.\n",
              "  outputElement.steps = steps;\n",
              "\n",
              "  return _uploadFilesContinue(outputId);\n",
              "}\n",
              "\n",
              "// This is roughly an async generator (not supported in the browser yet),\n",
              "// where there are multiple asynchronous steps and the Python side is going\n",
              "// to poll for completion of each step.\n",
              "// This uses a Promise to block the python side on completion of each step,\n",
              "// then passes the result of the previous step as the input to the next step.\n",
              "function _uploadFilesContinue(outputId) {\n",
              "  const outputElement = document.getElementById(outputId);\n",
              "  const steps = outputElement.steps;\n",
              "\n",
              "  const next = steps.next(outputElement.lastPromiseValue);\n",
              "  return Promise.resolve(next.value.promise).then((value) => {\n",
              "    // Cache the last promise value to make it available to the next\n",
              "    // step of the generator.\n",
              "    outputElement.lastPromiseValue = value;\n",
              "    return next.value.response;\n",
              "  });\n",
              "}\n",
              "\n",
              "/**\n",
              " * Generator function which is called between each async step of the upload\n",
              " * process.\n",
              " * @param {string} inputId Element ID of the input file picker element.\n",
              " * @param {string} outputId Element ID of the output display.\n",
              " * @return {!Iterable<!Object>} Iterable of next steps.\n",
              " */\n",
              "function* uploadFilesStep(inputId, outputId) {\n",
              "  const inputElement = document.getElementById(inputId);\n",
              "  inputElement.disabled = false;\n",
              "\n",
              "  const outputElement = document.getElementById(outputId);\n",
              "  outputElement.innerHTML = '';\n",
              "\n",
              "  const pickedPromise = new Promise((resolve) => {\n",
              "    inputElement.addEventListener('change', (e) => {\n",
              "      resolve(e.target.files);\n",
              "    });\n",
              "  });\n",
              "\n",
              "  const cancel = document.createElement('button');\n",
              "  inputElement.parentElement.appendChild(cancel);\n",
              "  cancel.textContent = 'Cancel upload';\n",
              "  const cancelPromise = new Promise((resolve) => {\n",
              "    cancel.onclick = () => {\n",
              "      resolve(null);\n",
              "    };\n",
              "  });\n",
              "\n",
              "  // Wait for the user to pick the files.\n",
              "  const files = yield {\n",
              "    promise: Promise.race([pickedPromise, cancelPromise]),\n",
              "    response: {\n",
              "      action: 'starting',\n",
              "    }\n",
              "  };\n",
              "\n",
              "  cancel.remove();\n",
              "\n",
              "  // Disable the input element since further picks are not allowed.\n",
              "  inputElement.disabled = true;\n",
              "\n",
              "  if (!files) {\n",
              "    return {\n",
              "      response: {\n",
              "        action: 'complete',\n",
              "      }\n",
              "    };\n",
              "  }\n",
              "\n",
              "  for (const file of files) {\n",
              "    const li = document.createElement('li');\n",
              "    li.append(span(file.name, {fontWeight: 'bold'}));\n",
              "    li.append(span(\n",
              "        `(${file.type || 'n/a'}) - ${file.size} bytes, ` +\n",
              "        `last modified: ${\n",
              "            file.lastModifiedDate ? file.lastModifiedDate.toLocaleDateString() :\n",
              "                                    'n/a'} - `));\n",
              "    const percent = span('0% done');\n",
              "    li.appendChild(percent);\n",
              "\n",
              "    outputElement.appendChild(li);\n",
              "\n",
              "    const fileDataPromise = new Promise((resolve) => {\n",
              "      const reader = new FileReader();\n",
              "      reader.onload = (e) => {\n",
              "        resolve(e.target.result);\n",
              "      };\n",
              "      reader.readAsArrayBuffer(file);\n",
              "    });\n",
              "    // Wait for the data to be ready.\n",
              "    let fileData = yield {\n",
              "      promise: fileDataPromise,\n",
              "      response: {\n",
              "        action: 'continue',\n",
              "      }\n",
              "    };\n",
              "\n",
              "    // Use a chunked sending to avoid message size limits. See b/62115660.\n",
              "    let position = 0;\n",
              "    do {\n",
              "      const length = Math.min(fileData.byteLength - position, MAX_PAYLOAD_SIZE);\n",
              "      const chunk = new Uint8Array(fileData, position, length);\n",
              "      position += length;\n",
              "\n",
              "      const base64 = btoa(String.fromCharCode.apply(null, chunk));\n",
              "      yield {\n",
              "        response: {\n",
              "          action: 'append',\n",
              "          file: file.name,\n",
              "          data: base64,\n",
              "        },\n",
              "      };\n",
              "\n",
              "      let percentDone = fileData.byteLength === 0 ?\n",
              "          100 :\n",
              "          Math.round((position / fileData.byteLength) * 100);\n",
              "      percent.textContent = `${percentDone}% done`;\n",
              "\n",
              "    } while (position < fileData.byteLength);\n",
              "  }\n",
              "\n",
              "  // All done.\n",
              "  yield {\n",
              "    response: {\n",
              "      action: 'complete',\n",
              "    }\n",
              "  };\n",
              "}\n",
              "\n",
              "scope.google = scope.google || {};\n",
              "scope.google.colab = scope.google.colab || {};\n",
              "scope.google.colab._files = {\n",
              "  _uploadFiles,\n",
              "  _uploadFilesContinue,\n",
              "};\n",
              "})(self);\n",
              "</script> "
            ]
          },
          "metadata": {}
        }
      ]
    },
    {
      "cell_type": "code",
      "execution_count": null,
      "id": "b4a58158",
      "metadata": {
        "colab": {
          "base_uri": "https://localhost:8080/",
          "height": 461
        },
        "id": "b4a58158",
        "outputId": "6fb98931-cf02-46da-c0fb-5971760e96cd"
      },
      "outputs": [
        {
          "data": {
            "text/html": [
              "<div>\n",
              "<style scoped>\n",
              "    .dataframe tbody tr th:only-of-type {\n",
              "        vertical-align: middle;\n",
              "    }\n",
              "\n",
              "    .dataframe tbody tr th {\n",
              "        vertical-align: top;\n",
              "    }\n",
              "\n",
              "    .dataframe thead th {\n",
              "        text-align: right;\n",
              "    }\n",
              "</style>\n",
              "<table border=\"1\" class=\"dataframe\">\n",
              "  <thead>\n",
              "    <tr style=\"text-align: right;\">\n",
              "      <th></th>\n",
              "      <th>gender</th>\n",
              "      <th>age</th>\n",
              "      <th>hypertension</th>\n",
              "      <th>heart_disease</th>\n",
              "      <th>ever_married</th>\n",
              "      <th>Residence_type</th>\n",
              "      <th>avg_glucose_level</th>\n",
              "      <th>bmi</th>\n",
              "      <th>stroke</th>\n",
              "      <th>formerly smoked</th>\n",
              "      <th>never smoked</th>\n",
              "      <th>smokes</th>\n",
              "      <th>work_Govt_job</th>\n",
              "      <th>work_Never_worked</th>\n",
              "      <th>work_Private</th>\n",
              "      <th>work_Self-employed</th>\n",
              "      <th>work_children</th>\n",
              "    </tr>\n",
              "  </thead>\n",
              "  <tbody>\n",
              "    <tr>\n",
              "      <th>0</th>\n",
              "      <td>0</td>\n",
              "      <td>3</td>\n",
              "      <td>0</td>\n",
              "      <td>0</td>\n",
              "      <td>0</td>\n",
              "      <td>0</td>\n",
              "      <td>95</td>\n",
              "      <td>18</td>\n",
              "      <td>0</td>\n",
              "      <td>0</td>\n",
              "      <td>1</td>\n",
              "      <td>0</td>\n",
              "      <td>0</td>\n",
              "      <td>0</td>\n",
              "      <td>0</td>\n",
              "      <td>0</td>\n",
              "      <td>1</td>\n",
              "    </tr>\n",
              "    <tr>\n",
              "      <th>1</th>\n",
              "      <td>0</td>\n",
              "      <td>58</td>\n",
              "      <td>1</td>\n",
              "      <td>0</td>\n",
              "      <td>1</td>\n",
              "      <td>1</td>\n",
              "      <td>87</td>\n",
              "      <td>39</td>\n",
              "      <td>0</td>\n",
              "      <td>0</td>\n",
              "      <td>1</td>\n",
              "      <td>0</td>\n",
              "      <td>0</td>\n",
              "      <td>0</td>\n",
              "      <td>1</td>\n",
              "      <td>0</td>\n",
              "      <td>0</td>\n",
              "    </tr>\n",
              "    <tr>\n",
              "      <th>2</th>\n",
              "      <td>1</td>\n",
              "      <td>8</td>\n",
              "      <td>0</td>\n",
              "      <td>0</td>\n",
              "      <td>1</td>\n",
              "      <td>1</td>\n",
              "      <td>110</td>\n",
              "      <td>17</td>\n",
              "      <td>0</td>\n",
              "      <td>0</td>\n",
              "      <td>1</td>\n",
              "      <td>0</td>\n",
              "      <td>0</td>\n",
              "      <td>0</td>\n",
              "      <td>1</td>\n",
              "      <td>0</td>\n",
              "      <td>0</td>\n",
              "    </tr>\n",
              "    <tr>\n",
              "      <th>3</th>\n",
              "      <td>1</td>\n",
              "      <td>70</td>\n",
              "      <td>0</td>\n",
              "      <td>0</td>\n",
              "      <td>0</td>\n",
              "      <td>0</td>\n",
              "      <td>69</td>\n",
              "      <td>35</td>\n",
              "      <td>0</td>\n",
              "      <td>1</td>\n",
              "      <td>0</td>\n",
              "      <td>0</td>\n",
              "      <td>0</td>\n",
              "      <td>0</td>\n",
              "      <td>1</td>\n",
              "      <td>0</td>\n",
              "      <td>0</td>\n",
              "    </tr>\n",
              "    <tr>\n",
              "      <th>4</th>\n",
              "      <td>1</td>\n",
              "      <td>52</td>\n",
              "      <td>0</td>\n",
              "      <td>0</td>\n",
              "      <td>1</td>\n",
              "      <td>1</td>\n",
              "      <td>77</td>\n",
              "      <td>17</td>\n",
              "      <td>0</td>\n",
              "      <td>1</td>\n",
              "      <td>0</td>\n",
              "      <td>0</td>\n",
              "      <td>0</td>\n",
              "      <td>0</td>\n",
              "      <td>1</td>\n",
              "      <td>0</td>\n",
              "      <td>0</td>\n",
              "    </tr>\n",
              "    <tr>\n",
              "      <th>...</th>\n",
              "      <td>...</td>\n",
              "      <td>...</td>\n",
              "      <td>...</td>\n",
              "      <td>...</td>\n",
              "      <td>...</td>\n",
              "      <td>...</td>\n",
              "      <td>...</td>\n",
              "      <td>...</td>\n",
              "      <td>...</td>\n",
              "      <td>...</td>\n",
              "      <td>...</td>\n",
              "      <td>...</td>\n",
              "      <td>...</td>\n",
              "      <td>...</td>\n",
              "      <td>...</td>\n",
              "      <td>...</td>\n",
              "      <td>...</td>\n",
              "    </tr>\n",
              "    <tr>\n",
              "      <th>34607</th>\n",
              "      <td>1</td>\n",
              "      <td>10</td>\n",
              "      <td>0</td>\n",
              "      <td>0</td>\n",
              "      <td>1</td>\n",
              "      <td>1</td>\n",
              "      <td>58</td>\n",
              "      <td>20</td>\n",
              "      <td>0</td>\n",
              "      <td>0</td>\n",
              "      <td>1</td>\n",
              "      <td>0</td>\n",
              "      <td>0</td>\n",
              "      <td>0</td>\n",
              "      <td>0</td>\n",
              "      <td>0</td>\n",
              "      <td>1</td>\n",
              "    </tr>\n",
              "    <tr>\n",
              "      <th>34608</th>\n",
              "      <td>1</td>\n",
              "      <td>56</td>\n",
              "      <td>0</td>\n",
              "      <td>0</td>\n",
              "      <td>1</td>\n",
              "      <td>1</td>\n",
              "      <td>213</td>\n",
              "      <td>55</td>\n",
              "      <td>0</td>\n",
              "      <td>1</td>\n",
              "      <td>0</td>\n",
              "      <td>0</td>\n",
              "      <td>1</td>\n",
              "      <td>0</td>\n",
              "      <td>0</td>\n",
              "      <td>0</td>\n",
              "      <td>0</td>\n",
              "    </tr>\n",
              "    <tr>\n",
              "      <th>34609</th>\n",
              "      <td>1</td>\n",
              "      <td>82</td>\n",
              "      <td>1</td>\n",
              "      <td>0</td>\n",
              "      <td>1</td>\n",
              "      <td>1</td>\n",
              "      <td>91</td>\n",
              "      <td>28</td>\n",
              "      <td>0</td>\n",
              "      <td>1</td>\n",
              "      <td>0</td>\n",
              "      <td>0</td>\n",
              "      <td>0</td>\n",
              "      <td>0</td>\n",
              "      <td>1</td>\n",
              "      <td>0</td>\n",
              "      <td>0</td>\n",
              "    </tr>\n",
              "    <tr>\n",
              "      <th>34610</th>\n",
              "      <td>0</td>\n",
              "      <td>40</td>\n",
              "      <td>0</td>\n",
              "      <td>0</td>\n",
              "      <td>1</td>\n",
              "      <td>1</td>\n",
              "      <td>99</td>\n",
              "      <td>33</td>\n",
              "      <td>0</td>\n",
              "      <td>0</td>\n",
              "      <td>1</td>\n",
              "      <td>0</td>\n",
              "      <td>0</td>\n",
              "      <td>0</td>\n",
              "      <td>1</td>\n",
              "      <td>0</td>\n",
              "      <td>0</td>\n",
              "    </tr>\n",
              "    <tr>\n",
              "      <th>34611</th>\n",
              "      <td>1</td>\n",
              "      <td>82</td>\n",
              "      <td>0</td>\n",
              "      <td>0</td>\n",
              "      <td>1</td>\n",
              "      <td>1</td>\n",
              "      <td>79</td>\n",
              "      <td>20</td>\n",
              "      <td>0</td>\n",
              "      <td>0</td>\n",
              "      <td>1</td>\n",
              "      <td>0</td>\n",
              "      <td>0</td>\n",
              "      <td>0</td>\n",
              "      <td>1</td>\n",
              "      <td>0</td>\n",
              "      <td>0</td>\n",
              "    </tr>\n",
              "  </tbody>\n",
              "</table>\n",
              "<p>34612 rows × 17 columns</p>\n",
              "</div>"
            ],
            "text/plain": [
              "       gender  age  hypertension  heart_disease  ever_married  Residence_type  \\\n",
              "0           0    3             0              0             0               0   \n",
              "1           0   58             1              0             1               1   \n",
              "2           1    8             0              0             1               1   \n",
              "3           1   70             0              0             0               0   \n",
              "4           1   52             0              0             1               1   \n",
              "...       ...  ...           ...            ...           ...             ...   \n",
              "34607       1   10             0              0             1               1   \n",
              "34608       1   56             0              0             1               1   \n",
              "34609       1   82             1              0             1               1   \n",
              "34610       0   40             0              0             1               1   \n",
              "34611       1   82             0              0             1               1   \n",
              "\n",
              "       avg_glucose_level  bmi  stroke  formerly smoked  never smoked  smokes  \\\n",
              "0                     95   18       0                0             1       0   \n",
              "1                     87   39       0                0             1       0   \n",
              "2                    110   17       0                0             1       0   \n",
              "3                     69   35       0                1             0       0   \n",
              "4                     77   17       0                1             0       0   \n",
              "...                  ...  ...     ...              ...           ...     ...   \n",
              "34607                 58   20       0                0             1       0   \n",
              "34608                213   55       0                1             0       0   \n",
              "34609                 91   28       0                1             0       0   \n",
              "34610                 99   33       0                0             1       0   \n",
              "34611                 79   20       0                0             1       0   \n",
              "\n",
              "       work_Govt_job  work_Never_worked  work_Private  work_Self-employed  \\\n",
              "0                  0                  0             0                   0   \n",
              "1                  0                  0             1                   0   \n",
              "2                  0                  0             1                   0   \n",
              "3                  0                  0             1                   0   \n",
              "4                  0                  0             1                   0   \n",
              "...              ...                ...           ...                 ...   \n",
              "34607              0                  0             0                   0   \n",
              "34608              1                  0             0                   0   \n",
              "34609              0                  0             1                   0   \n",
              "34610              0                  0             1                   0   \n",
              "34611              0                  0             1                   0   \n",
              "\n",
              "       work_children  \n",
              "0                  1  \n",
              "1                  0  \n",
              "2                  0  \n",
              "3                  0  \n",
              "4                  0  \n",
              "...              ...  \n",
              "34607              1  \n",
              "34608              0  \n",
              "34609              0  \n",
              "34610              0  \n",
              "34611              0  \n",
              "\n",
              "[34612 rows x 17 columns]"
            ]
          },
          "execution_count": 6,
          "metadata": {},
          "output_type": "execute_result"
        }
      ],
      "source": [
        "data = pd.read_csv('second.csv')\n",
        "data"
      ]
    },
    {
      "cell_type": "markdown",
      "id": "c2979b24",
      "metadata": {
        "id": "c2979b24"
      },
      "source": [
        "## Train-Test Split"
      ]
    },
    {
      "cell_type": "code",
      "execution_count": null,
      "id": "d1469211",
      "metadata": {
        "id": "d1469211"
      },
      "outputs": [],
      "source": [
        "y = data['stroke']\n",
        "X = data.drop('stroke', axis=1)"
      ]
    },
    {
      "cell_type": "code",
      "execution_count": null,
      "id": "5d4ee78a",
      "metadata": {
        "id": "5d4ee78a"
      },
      "outputs": [],
      "source": [
        "X_train, X_test, y_train, y_test = train_test_split(X, y, test_size= 0.2, random_state= 42)"
      ]
    },
    {
      "cell_type": "code",
      "execution_count": null,
      "id": "5884b330-a2af-47d2-8a3e-5be925bf75e1",
      "metadata": {
        "colab": {
          "base_uri": "https://localhost:8080/"
        },
        "id": "5884b330-a2af-47d2-8a3e-5be925bf75e1",
        "outputId": "1cfe0c7d-9ebc-4e51-c29a-0f869be02dce"
      },
      "outputs": [
        {
          "data": {
            "text/plain": [
              "17561    0\n",
              "30884    0\n",
              "251      0\n",
              "30728    0\n",
              "22327    0\n",
              "        ..\n",
              "22524    0\n",
              "5511     0\n",
              "26349    0\n",
              "1266     0\n",
              "33675    0\n",
              "Name: stroke, Length: 6923, dtype: int64"
            ]
          },
          "execution_count": 9,
          "metadata": {},
          "output_type": "execute_result"
        }
      ],
      "source": [
        "y_test"
      ]
    },
    {
      "cell_type": "code",
      "execution_count": null,
      "id": "f6ff412e-190d-4d6f-89e9-a9eab9f3dca7",
      "metadata": {
        "colab": {
          "base_uri": "https://localhost:8080/"
        },
        "id": "f6ff412e-190d-4d6f-89e9-a9eab9f3dca7",
        "outputId": "b38c00ca-7cb0-4e59-8b22-a7110cc932c7"
      },
      "outputs": [
        {
          "data": {
            "text/plain": [
              "Counter({0: 27187, 1: 502})"
            ]
          },
          "execution_count": 11,
          "metadata": {},
          "output_type": "execute_result"
        }
      ],
      "source": [
        "#Общее количество\n",
        "cou = Counter(y_train)\n",
        "cou"
      ]
    },
    {
      "cell_type": "markdown",
      "id": "4cdc7330",
      "metadata": {
        "id": "4cdc7330"
      },
      "source": [
        "## Масштабирование данных"
      ]
    },
    {
      "cell_type": "code",
      "execution_count": null,
      "id": "8cd8c178",
      "metadata": {
        "id": "8cd8c178"
      },
      "outputs": [],
      "source": [
        "sc = StandardScaler()\n",
        "X_train_sc = sc.fit_transform(X_train)\n",
        "X_test_sc = sc.fit_transform(X_test)\n",
        "\n"
      ]
    },
    {
      "cell_type": "code",
      "execution_count": null,
      "id": "c530b92d-619c-4d83-9fe4-033962170c40",
      "metadata": {
        "colab": {
          "base_uri": "https://localhost:8080/"
        },
        "id": "c530b92d-619c-4d83-9fe4-033962170c40",
        "outputId": "d046d097-56cf-43d3-fdbd-245ef6c3778e"
      },
      "outputs": [
        {
          "name": "stdout",
          "output_type": "stream",
          "text": [
            "-1.1627891117096877e-18\n"
          ]
        }
      ],
      "source": [
        "mean_per_feature = X_train_sc.mean()\n",
        "print(mean_per_feature)"
      ]
    },
    {
      "cell_type": "code",
      "execution_count": null,
      "id": "7a99bdae",
      "metadata": {
        "colab": {
          "base_uri": "https://localhost:8080/"
        },
        "id": "7a99bdae",
        "outputId": "704757dc-9bbf-4a67-b135-230f8cf9a09e"
      },
      "outputs": [
        {
          "name": "stdout",
          "output_type": "stream",
          "text": [
            "27689\n",
            "6923\n"
          ]
        }
      ],
      "source": [
        "print(len(X_train_sc))\n",
        "print(len(X_test_sc))"
      ]
    },
    {
      "cell_type": "markdown",
      "id": "1797ada0",
      "metadata": {
        "id": "1797ada0"
      },
      "source": [
        "# Балансировка данных при помощи SMOTE"
      ]
    },
    {
      "cell_type": "code",
      "execution_count": null,
      "id": "3bc935b4",
      "metadata": {
        "colab": {
          "base_uri": "https://localhost:8080/"
        },
        "id": "3bc935b4",
        "outputId": "60934fc0-52f1-4c42-e14a-b8f4e024fcf8"
      },
      "outputs": [
        {
          "name": "stdout",
          "output_type": "stream",
          "text": [
            "Before Smote, counts of label '1': 502\n",
            "Before Smote, counts of label '0': 27187 \n",
            "\n",
            "After Smote, the shape of train_X: (54374, 16)\n",
            "After Smote, the shape of train_y: (54374,) \n",
            "\n",
            "After Smote, counts of label '1': 27187\n",
            "After Smote, counts of label '0': 27187\n"
          ]
        }
      ],
      "source": [
        "\n",
        "print(\"Before Smote, counts of label '1': {}\".format(sum(y_train==1)))\n",
        "print(\"Before Smote, counts of label '0': {} \\n\".format(sum(y_train==0)))\n",
        "\n",
        "sm = SMOTE(random_state=42)\n",
        "#Функция ravel() в библиотеке NumPy используется для преобразования многомерного массива в одномерный массив.\n",
        "#Она возвращает новый одномерный массив, содержащий те же элементы, что и исходный массив, но расположенные в одномерной последовательности.\n",
        "X_train_smote, y_train_smote = sm.fit_resample(X_train, y_train.ravel()) # Skailing (здесь мы применяем масштабированные данные)\n",
        "\n",
        "print('After Smote, the shape of train_X: {}'.format(X_train_smote.shape))\n",
        "print('After Smote, the shape of train_y: {} \\n'.format(y_train_smote.shape))\n",
        "\n",
        "print(\"After Smote, counts of label '1': {}\".format(sum(y_train_smote==1)))\n",
        "print(\"After Smote, counts of label '0': {}\".format(sum(y_train_smote==0)))"
      ]
    },
    {
      "cell_type": "code",
      "execution_count": null,
      "id": "6168c1f1-88ee-40ad-9e20-66f33e46190d",
      "metadata": {
        "id": "6168c1f1-88ee-40ad-9e20-66f33e46190d"
      },
      "outputs": [],
      "source": []
    },
    {
      "cell_type": "markdown",
      "id": "8bc33d3c-7a78-4395-96d7-a7c6201a5534",
      "metadata": {
        "id": "8bc33d3c-7a78-4395-96d7-a7c6201a5534"
      },
      "source": [
        "## Ансамблевые методы"
      ]
    },
    {
      "cell_type": "markdown",
      "id": "3de489ab-3e36-4631-a661-3049bb152707",
      "metadata": {
        "id": "3de489ab-3e36-4631-a661-3049bb152707"
      },
      "source": [
        "# SMOTE"
      ]
    },
    {
      "cell_type": "markdown",
      "id": "d3b9ee9c-bc2a-4bbf-87c7-1fda5339808f",
      "metadata": {
        "id": "d3b9ee9c-bc2a-4bbf-87c7-1fda5339808f"
      },
      "source": [
        "## 1.BOOSTING"
      ]
    },
    {
      "cell_type": "markdown",
      "id": "3c029fc4-d3fd-4369-b35a-4ec25aaa6a87",
      "metadata": {
        "id": "3c029fc4-d3fd-4369-b35a-4ec25aaa6a87"
      },
      "source": [
        "### КРОСС-ВАЛИДАЦИЯ"
      ]
    },
    {
      "cell_type": "code",
      "execution_count": null,
      "id": "52cdb3f2",
      "metadata": {
        "colab": {
          "base_uri": "https://localhost:8080/",
          "height": 206
        },
        "id": "52cdb3f2",
        "outputId": "62c0dc59-416a-43b4-a1d5-1ca2c1f9e7c6"
      },
      "outputs": [
        {
          "data": {
            "text/html": [
              "<div>\n",
              "<style scoped>\n",
              "    .dataframe tbody tr th:only-of-type {\n",
              "        vertical-align: middle;\n",
              "    }\n",
              "\n",
              "    .dataframe tbody tr th {\n",
              "        vertical-align: top;\n",
              "    }\n",
              "\n",
              "    .dataframe thead th {\n",
              "        text-align: right;\n",
              "    }\n",
              "</style>\n",
              "<table border=\"1\" class=\"dataframe\">\n",
              "  <thead>\n",
              "    <tr style=\"text-align: right;\">\n",
              "      <th></th>\n",
              "      <th>fit_time</th>\n",
              "      <th>score_time</th>\n",
              "      <th>accuracy</th>\n",
              "      <th>precision</th>\n",
              "      <th>recall</th>\n",
              "      <th>f1</th>\n",
              "    </tr>\n",
              "  </thead>\n",
              "  <tbody>\n",
              "    <tr>\n",
              "      <th>CatBoostClassifier</th>\n",
              "      <td>42.997393</td>\n",
              "      <td>0.042300</td>\n",
              "      <td>0.989132</td>\n",
              "      <td>0.990593</td>\n",
              "      <td>0.989132</td>\n",
              "      <td>0.989051</td>\n",
              "    </tr>\n",
              "    <tr>\n",
              "      <th>AdaBoostClassifier</th>\n",
              "      <td>3.025200</td>\n",
              "      <td>0.037121</td>\n",
              "      <td>0.818921</td>\n",
              "      <td>0.823043</td>\n",
              "      <td>0.818921</td>\n",
              "      <td>0.818347</td>\n",
              "    </tr>\n",
              "    <tr>\n",
              "      <th>XGBClassifier</th>\n",
              "      <td>0.885185</td>\n",
              "      <td>0.016600</td>\n",
              "      <td>0.979605</td>\n",
              "      <td>0.981081</td>\n",
              "      <td>0.979605</td>\n",
              "      <td>0.979527</td>\n",
              "    </tr>\n",
              "    <tr>\n",
              "      <th>LGBMClassifier</th>\n",
              "      <td>1.314799</td>\n",
              "      <td>0.016800</td>\n",
              "      <td>0.986244</td>\n",
              "      <td>0.987791</td>\n",
              "      <td>0.986244</td>\n",
              "      <td>0.986158</td>\n",
              "    </tr>\n",
              "    <tr>\n",
              "      <th>GradientBoostingClassifier</th>\n",
              "      <td>13.657999</td>\n",
              "      <td>0.013300</td>\n",
              "      <td>0.921581</td>\n",
              "      <td>0.923046</td>\n",
              "      <td>0.921581</td>\n",
              "      <td>0.921508</td>\n",
              "    </tr>\n",
              "  </tbody>\n",
              "</table>\n",
              "</div>"
            ],
            "text/plain": [
              "                             fit_time  score_time  accuracy  precision  \\\n",
              "CatBoostClassifier          42.997393    0.042300  0.989132   0.990593   \n",
              "AdaBoostClassifier           3.025200    0.037121  0.818921   0.823043   \n",
              "XGBClassifier                0.885185    0.016600  0.979605   0.981081   \n",
              "LGBMClassifier               1.314799    0.016800  0.986244   0.987791   \n",
              "GradientBoostingClassifier  13.657999    0.013300  0.921581   0.923046   \n",
              "\n",
              "                              recall        f1  \n",
              "CatBoostClassifier          0.989132  0.989051  \n",
              "AdaBoostClassifier          0.818921  0.818347  \n",
              "XGBClassifier               0.979605  0.979527  \n",
              "LGBMClassifier              0.986244  0.986158  \n",
              "GradientBoostingClassifier  0.921581  0.921508  "
            ]
          },
          "execution_count": 39,
          "metadata": {},
          "output_type": "execute_result"
        }
      ],
      "source": [
        "\n",
        "list_of_models = [\n",
        "        CatBoostClassifier(),#boosting\n",
        "        AdaBoostClassifier(),#boosting\n",
        "        XGBClassifier(),#boosting\n",
        "        LGBMClassifier(),#boosting\n",
        "        GradientBoostingClassifier()] #boosting\n",
        "\n",
        "#Эта строка создает список имен моделей в list_of_models.\n",
        "#Для каждой модели x в list_of_models она использует функцию type(x).__name__, которая возвращает строковое имя класса объекта.\n",
        "#Например, если модель - CatBoostClassifier(), type(x).__name__ вернет строку 'CatBoostClassifier'.\n",
        "list_of_model_names = [type(x).__name__ for x in list_of_models]\n",
        "\n",
        "cv_results = pd.DataFrame(\n",
        "        data=0.0,\n",
        "        index=list_of_model_names,\n",
        "        columns=['fit_time', 'score_time', 'accuracy', 'precision', 'recall', 'f1'])\n",
        "\n",
        "scoring = {\n",
        "    'accuracy': make_scorer(accuracy_score),\n",
        "    'precision': make_scorer(precision_score, average='macro'),\n",
        "    'recall': make_scorer(recall_score, average='macro'),\n",
        "    'f1': make_scorer(f1_score, average='macro')\n",
        "}\n",
        "\n",
        "for model in list_of_models:\n",
        "    cv_result = cross_validate(\n",
        "        estimator=model,\n",
        "        X=X_train_smote,\n",
        "        y=y_train_smote,\n",
        "        scoring=scoring,\n",
        "        cv=10,\n",
        "        n_jobs=-1)\n",
        "\n",
        "    cv_results.loc[type(model).__name__] = list(map(np.mean, cv_result.values()))\n",
        "\n",
        "cv_results"
      ]
    },
    {
      "cell_type": "markdown",
      "id": "3b7e966d-1e6f-41ff-832c-9fd96a606110",
      "metadata": {
        "id": "3b7e966d-1e6f-41ff-832c-9fd96a606110"
      },
      "source": [
        "### Прогнозирование с CatBoostClassifier"
      ]
    },
    {
      "cell_type": "markdown",
      "id": "da0d4478-f908-4a0d-9c42-f545c8811fc6",
      "metadata": {
        "id": "da0d4478-f908-4a0d-9c42-f545c8811fc6"
      },
      "source": [
        "**Параметры по умолчанию**"
      ]
    },
    {
      "cell_type": "code",
      "execution_count": null,
      "id": "0a5e537c-7843-4895-8dd9-4803724cde82",
      "metadata": {
        "id": "0a5e537c-7843-4895-8dd9-4803724cde82",
        "colab": {
          "referenced_widgets": [
            "5407293f1c06442e895a35f40faa9ed6"
          ]
        },
        "outputId": "45e7af92-a764-4e3d-c8a2-2c55b481a138"
      },
      "outputs": [
        {
          "data": {
            "application/vnd.jupyter.widget-view+json": {
              "model_id": "5407293f1c06442e895a35f40faa9ed6",
              "version_major": 2,
              "version_minor": 0
            },
            "text/plain": [
              "MetricVisualizer(layout=Layout(align_self='stretch', height='500px'))"
            ]
          },
          "metadata": {},
          "output_type": "display_data"
        },
        {
          "name": "stdout",
          "output_type": "stream",
          "text": [
            "Fit Time: 6.4186413288 seconds\n",
            "Classification Report:\n",
            "              precision    recall  f1-score   support\n",
            "\n",
            "           0       0.98      1.00      0.99      6787\n",
            "           1       0.00      0.00      0.00       136\n",
            "\n",
            "    accuracy                           0.98      6923\n",
            "   macro avg       0.49      0.50      0.50      6923\n",
            "weighted avg       0.96      0.98      0.97      6923\n",
            "\n",
            "Confusion Matrix:\n",
            "[[6787    0]\n",
            " [ 136    0]]\n"
          ]
        },
        {
          "data": {
            "image/png": "[encoded data removed]",
            "text/plain": [
              "<Figure size 800x600 with 2 Axes>"
            ]
          },
          "metadata": {},
          "output_type": "display_data"
        }
      ],
      "source": [
        "# Старт времени\n",
        "start_time = time.time()\n",
        "\n",
        "# Обучение модели ансамбля\n",
        "cat_model = CatBoostClassifier(verbose=False,random_state=55).fit(X_train_smote, y_train_smote,plot=True)\n",
        "\n",
        "# Фиксация времени\n",
        "fit_time = time.time() - start_time\n",
        "print(f\"Fit Time: {fit_time:.10f} seconds\")\n",
        "\n",
        "\n",
        "# Предсказание на тестовой выборке\n",
        "y_pred = cat_model.predict(X_test_sc)\n",
        "\n",
        "# Вывод отчета по метрикам классификации\n",
        "print(\"Classification Report:\")\n",
        "print(classification_report(y_test, y_pred))\n",
        "\n",
        "# Матрица ошибок\n",
        "print(\"Confusion Matrix:\")\n",
        "\n",
        "conf_matrix = confusion_matrix(y_test, y_pred)\n",
        "print(conf_matrix)\n",
        "\n",
        "plt.figure(figsize=(8, 6))\n",
        "sns.heatmap(conf_matrix, annot=True, cmap='Blues', fmt='d')\n",
        "\n",
        "plt.xlabel('Predicted labels')\n",
        "plt.ylabel('True labels')\n",
        "plt.title('Confusion Matrix')\n",
        "plt.show()"
      ]
    },
    {
      "cell_type": "markdown",
      "id": "968a78a0-e47b-487c-a48a-8ae5291e9983",
      "metadata": {
        "id": "968a78a0-e47b-487c-a48a-8ae5291e9983"
      },
      "source": [
        "### Прогнозирование с LGBMClassifier"
      ]
    },
    {
      "cell_type": "code",
      "execution_count": null,
      "id": "ba912eb1-6a8b-41df-b6ad-849f044d853d",
      "metadata": {
        "id": "ba912eb1-6a8b-41df-b6ad-849f044d853d",
        "outputId": "054b085f-ce04-4cf3-933a-6d7540c2220d"
      },
      "outputs": [
        {
          "name": "stdout",
          "output_type": "stream",
          "text": [
            "Fit Time: 0.2075300217 seconds\n",
            "Classification Report:\n",
            "              precision    recall  f1-score   support\n",
            "\n",
            "           0       0.98      1.00      0.99      6787\n",
            "           1       0.00      0.00      0.00       136\n",
            "\n",
            "    accuracy                           0.98      6923\n",
            "   macro avg       0.49      0.50      0.50      6923\n",
            "weighted avg       0.96      0.98      0.97      6923\n",
            "\n",
            "Confusion Matrix:\n",
            "[[6787    0]\n",
            " [ 136    0]]\n"
          ]
        },
        {
          "data": {
            "image/png": "[encoded data removed]",
            "text/plain": [
              "<Figure size 800x600 with 2 Axes>"
            ]
          },
          "metadata": {},
          "output_type": "display_data"
        }
      ],
      "source": [
        "# Старт времени\n",
        "start_time = time.time()\n",
        "\n",
        "# Обучение модели ансамбля\n",
        "lgbm_model = LGBMClassifier(verbose=-1,random_state=33).fit(X_train_smote, y_train_smote)\n",
        "# Фиксация времени\n",
        "fit_time = time.time() - start_time\n",
        "print(f\"Fit Time: {fit_time:.10f} seconds\")\n",
        "\n",
        "\n",
        "# Предсказание на тестовой выборке\n",
        "y_pred = lgbm_model.predict(X_test_sc)\n",
        "\n",
        "# Вывод отчета по метрикам классификации\n",
        "print(\"Classification Report:\")\n",
        "print(classification_report(y_test, y_pred))\n",
        "\n",
        "# Матрица ошибок\n",
        "print(\"Confusion Matrix:\")\n",
        "\n",
        "conf_matrix = confusion_matrix(y_test, y_pred)\n",
        "print(conf_matrix)\n",
        "\n",
        "plt.figure(figsize=(8, 6))\n",
        "sns.heatmap(conf_matrix, annot=True, cmap='Blues', fmt='d')\n",
        "\n",
        "plt.xlabel('Predicted labels')\n",
        "plt.ylabel('True labels')\n",
        "plt.title('Confusion Matrix')\n",
        "plt.show()"
      ]
    },
    {
      "cell_type": "markdown",
      "id": "6bfae0f0-3498-46ea-8d0f-090688b5ebe5",
      "metadata": {
        "id": "6bfae0f0-3498-46ea-8d0f-090688b5ebe5"
      },
      "source": [
        "### Прогнозирование XGBClassifier"
      ]
    },
    {
      "cell_type": "code",
      "execution_count": null,
      "id": "850fc06c-33d2-412b-890e-6b99a67cfc75",
      "metadata": {
        "id": "850fc06c-33d2-412b-890e-6b99a67cfc75",
        "outputId": "a7e4e275-2334-4804-8ea9-78ef571e530d"
      },
      "outputs": [
        {
          "name": "stdout",
          "output_type": "stream",
          "text": [
            "Fit Time: 0.1728 seconds\n",
            "Classification Report:\n",
            "              precision    recall  f1-score   support\n",
            "\n",
            "           0       0.97      0.41      0.58      6787\n",
            "           1       0.01      0.43      0.03       136\n",
            "\n",
            "    accuracy                           0.41      6923\n",
            "   macro avg       0.49      0.42      0.30      6923\n",
            "weighted avg       0.95      0.41      0.57      6923\n",
            "\n",
            "Confusion Matrix:\n",
            "[[2795 3992]\n",
            " [  77   59]]\n"
          ]
        },
        {
          "data": {
            "image/png": "[encoded data removed]",
            "text/plain": [
              "<Figure size 800x600 with 2 Axes>"
            ]
          },
          "metadata": {},
          "output_type": "display_data"
        }
      ],
      "source": [
        "# Старт времени\n",
        "start_time = time.time()\n",
        "\n",
        "# Обучение модели ансамбля\n",
        "xgb_model = XGBClassifier(random_state=42).fit(X_train_smote, y_train_smote)\n",
        "# Фиксация времени\n",
        "fit_time = time.time() - start_time\n",
        "print(f\"Fit Time: {fit_time:.4f} seconds\")\n",
        "\n",
        "\n",
        "# Предсказание на тестовой выборке\n",
        "y_pred = xgb_model.predict(X_test_sc)\n",
        "\n",
        "# Вывод отчета по метрикам классификации\n",
        "print(\"Classification Report:\")\n",
        "print(classification_report(y_test, y_pred))\n",
        "\n",
        "# Матрица ошибок\n",
        "print(\"Confusion Matrix:\")\n",
        "conf_matrix = confusion_matrix(y_test, y_pred)\n",
        "print(conf_matrix)\n",
        "\n",
        "plt.figure(figsize=(8, 6))\n",
        "sns.heatmap(conf_matrix, annot=True, cmap='Blues', fmt='d')\n",
        "\n",
        "plt.xlabel('Predicted labels')\n",
        "plt.ylabel('True labels')\n",
        "plt.title('Confusion Matrix')\n",
        "plt.show()"
      ]
    },
    {
      "cell_type": "code",
      "execution_count": null,
      "id": "63301dc2-8acd-44d3-80f3-59c1cb3c6e23",
      "metadata": {
        "id": "63301dc2-8acd-44d3-80f3-59c1cb3c6e23"
      },
      "outputs": [],
      "source": []
    },
    {
      "cell_type": "markdown",
      "id": "d98acaf9-32e6-4eaa-b8d3-b7c071c009a5",
      "metadata": {
        "id": "d98acaf9-32e6-4eaa-b8d3-b7c071c009a5"
      },
      "source": [
        "### 2.Bagging"
      ]
    },
    {
      "cell_type": "code",
      "execution_count": null,
      "id": "d2bd2011-e14d-444b-9d89-4f7e42327173",
      "metadata": {
        "id": "d2bd2011-e14d-444b-9d89-4f7e42327173"
      },
      "outputs": [],
      "source": [
        "from sklearn.ensemble import BaggingClassifier\n",
        "from sklearn.datasets import make_classification\n",
        "\n",
        "from sklearn.svm import SVC\n",
        "from sklearn.tree import DecisionTreeClassifier\n",
        "from sklearn.neighbors import KNeighborsClassifier\n"
      ]
    },
    {
      "cell_type": "code",
      "execution_count": null,
      "id": "86d90160-a2ae-465e-af41-49f15b3b7904",
      "metadata": {
        "id": "86d90160-a2ae-465e-af41-49f15b3b7904",
        "outputId": "90732fb4-e8bc-4d1d-ee49-7bb3db0b756e"
      },
      "outputs": [
        {
          "data": {
            "text/html": [
              "<div>\n",
              "<style scoped>\n",
              "    .dataframe tbody tr th:only-of-type {\n",
              "        vertical-align: middle;\n",
              "    }\n",
              "\n",
              "    .dataframe tbody tr th {\n",
              "        vertical-align: top;\n",
              "    }\n",
              "\n",
              "    .dataframe thead th {\n",
              "        text-align: right;\n",
              "    }\n",
              "</style>\n",
              "<table border=\"1\" class=\"dataframe\">\n",
              "  <thead>\n",
              "    <tr style=\"text-align: right;\">\n",
              "      <th></th>\n",
              "      <th>fit_time</th>\n",
              "      <th>score_time</th>\n",
              "      <th>accuracy</th>\n",
              "      <th>precision</th>\n",
              "      <th>recall</th>\n",
              "      <th>f1</th>\n",
              "    </tr>\n",
              "  </thead>\n",
              "  <tbody>\n",
              "    <tr>\n",
              "      <th>RandomForestClassifier</th>\n",
              "      <td>72.974073</td>\n",
              "      <td>0.906001</td>\n",
              "      <td>0.968791</td>\n",
              "      <td>0.969362</td>\n",
              "      <td>0.968790</td>\n",
              "      <td>0.968781</td>\n",
              "    </tr>\n",
              "    <tr>\n",
              "      <th>SVC</th>\n",
              "      <td>344.796825</td>\n",
              "      <td>70.136698</td>\n",
              "      <td>0.861386</td>\n",
              "      <td>0.867458</td>\n",
              "      <td>0.861386</td>\n",
              "      <td>0.860813</td>\n",
              "    </tr>\n",
              "    <tr>\n",
              "      <th>DecisionTreeClassifier</th>\n",
              "      <td>3.676515</td>\n",
              "      <td>0.016195</td>\n",
              "      <td>0.984644</td>\n",
              "      <td>0.985649</td>\n",
              "      <td>0.984644</td>\n",
              "      <td>0.984598</td>\n",
              "    </tr>\n",
              "    <tr>\n",
              "      <th>KNeighborsClassifier</th>\n",
              "      <td>0.170701</td>\n",
              "      <td>25.024504</td>\n",
              "      <td>0.930813</td>\n",
              "      <td>0.936589</td>\n",
              "      <td>0.930812</td>\n",
              "      <td>0.930582</td>\n",
              "    </tr>\n",
              "  </tbody>\n",
              "</table>\n",
              "</div>"
            ],
            "text/plain": [
              "                          fit_time  score_time  accuracy  precision    recall  \\\n",
              "RandomForestClassifier   72.974073    0.906001  0.968791   0.969362  0.968790   \n",
              "SVC                     344.796825   70.136698  0.861386   0.867458  0.861386   \n",
              "DecisionTreeClassifier    3.676515    0.016195  0.984644   0.985649  0.984644   \n",
              "KNeighborsClassifier      0.170701   25.024504  0.930813   0.936589  0.930812   \n",
              "\n",
              "                              f1  \n",
              "RandomForestClassifier  0.968781  \n",
              "SVC                     0.860813  \n",
              "DecisionTreeClassifier  0.984598  \n",
              "KNeighborsClassifier    0.930582  "
            ]
          },
          "execution_count": 44,
          "metadata": {},
          "output_type": "execute_result"
        }
      ],
      "source": [
        "# Определяем базовые классификаторы (модели)\n",
        "base_classifiers = [\n",
        "    RandomForestClassifier(),\n",
        "    SVC(),\n",
        "    DecisionTreeClassifier(),\n",
        "    KNeighborsClassifier()\n",
        "]\n",
        "\n",
        "# Наименования моделей\n",
        "list_of_model_names = [type(x).__name__ for x in base_classifiers]\n",
        "\n",
        "# DataFrame для хранения резулььтатов\n",
        "cv_results = pd.DataFrame(\n",
        "    data=0.0,\n",
        "    index=list_of_model_names,\n",
        "    columns=['fit_time', 'score_time', 'accuracy', 'precision', 'recall', 'f1']\n",
        ")\n",
        "\n",
        "# Оценочные показатели\n",
        "scoring = {\n",
        "    'accuracy': make_scorer(accuracy_score),\n",
        "    'precision': make_scorer(precision_score, average='macro'),\n",
        "    'recall': make_scorer(recall_score, average='macro'),\n",
        "    'f1': make_scorer(f1_score, average='macro')\n",
        "}\n",
        "\n",
        "# Проходим по каждому базовому классификатору, выполняем перекрестную проверку и сохраняем результаты в DataFrame.\n",
        "for model, model_name in zip(base_classifiers, list_of_model_names):\n",
        "    bagging = BaggingClassifier(base_estimator=model)\n",
        "    cv_result = cross_validate(\n",
        "        estimator=bagging,\n",
        "        X=X_train_smote,\n",
        "        y=y_train_smote,\n",
        "        scoring=scoring,\n",
        "        cv=10,\n",
        "        n_jobs=-1\n",
        "    )\n",
        "\n",
        "    cv_results.loc[model_name] = list(map(np.mean, cv_result.values()))\n",
        "\n",
        "cv_results"
      ]
    },
    {
      "cell_type": "markdown",
      "id": "ce39d181-bfe1-4ce6-90fb-3165eb55133e",
      "metadata": {
        "id": "ce39d181-bfe1-4ce6-90fb-3165eb55133e"
      },
      "source": [
        "### Кросс Валидация"
      ]
    },
    {
      "cell_type": "code",
      "execution_count": null,
      "id": "019607c9-7bc2-4f04-b560-c9f627db4221",
      "metadata": {
        "id": "019607c9-7bc2-4f04-b560-c9f627db4221",
        "outputId": "90732fb4-e8bc-4d1d-ee49-7bb3db0b756e"
      },
      "outputs": [
        {
          "data": {
            "text/html": [
              "<div>\n",
              "<style scoped>\n",
              "    .dataframe tbody tr th:only-of-type {\n",
              "        vertical-align: middle;\n",
              "    }\n",
              "\n",
              "    .dataframe tbody tr th {\n",
              "        vertical-align: top;\n",
              "    }\n",
              "\n",
              "    .dataframe thead th {\n",
              "        text-align: right;\n",
              "    }\n",
              "</style>\n",
              "<table border=\"1\" class=\"dataframe\">\n",
              "  <thead>\n",
              "    <tr style=\"text-align: right;\">\n",
              "      <th></th>\n",
              "      <th>fit_time</th>\n",
              "      <th>score_time</th>\n",
              "      <th>accuracy</th>\n",
              "      <th>precision</th>\n",
              "      <th>recall</th>\n",
              "      <th>f1</th>\n",
              "    </tr>\n",
              "  </thead>\n",
              "  <tbody>\n",
              "    <tr>\n",
              "      <th>ExtraTreesClassifier</th>\n",
              "      <td>23.760596</td>\n",
              "      <td>1.959002</td>\n",
              "      <td>0.960808</td>\n",
              "      <td>0.961952</td>\n",
              "      <td>0.960808</td>\n",
              "      <td>0.960784</td>\n",
              "    </tr>\n",
              "  </tbody>\n",
              "</table>\n",
              "</div>"
            ],
            "text/plain": [
              "                       fit_time  score_time  accuracy  precision    recall  \\\n",
              "ExtraTreesClassifier  23.760596    1.959002  0.960808   0.961952  0.960808   \n",
              "\n",
              "                            f1  \n",
              "ExtraTreesClassifier  0.960784  "
            ]
          },
          "execution_count": 45,
          "metadata": {},
          "output_type": "execute_result"
        }
      ],
      "source": [
        "base_classifiers = [\n",
        "    #RandomForestClassifier(),\n",
        "    #SVC(),\n",
        "    ExtraTreesClassifier()\n",
        "    #DecisionTreeClassifier(),\n",
        "    #KNeighborsClassifier()\n",
        "]\n",
        "\n",
        "list_of_model_names = [type(x).__name__ for x in base_classifiers]\n",
        "\n",
        "cv_results = pd.DataFrame(\n",
        "    data=0.0,\n",
        "    index=list_of_model_names,\n",
        "    columns=['fit_time', 'score_time', 'accuracy', 'precision', 'recall', 'f1']\n",
        ")\n",
        "\n",
        "scoring = {\n",
        "    'accuracy': make_scorer(accuracy_score),\n",
        "    'precision': make_scorer(precision_score, average='macro'),\n",
        "    'recall': make_scorer(recall_score, average='macro'),\n",
        "    'f1': make_scorer(f1_score, average='macro')\n",
        "}\n",
        "\n",
        "for model, model_name in zip(base_classifiers, list_of_model_names):\n",
        "    bagging = BaggingClassifier(base_estimator=model)\n",
        "    cv_result = cross_validate(\n",
        "        estimator=bagging,\n",
        "        X=X_train_smote,\n",
        "        y=y_train_smote,\n",
        "        scoring=scoring,\n",
        "        cv=5,\n",
        "        n_jobs=-1\n",
        "    )\n",
        "\n",
        "    cv_results.loc[model_name] = list(map(np.mean, cv_result.values()))\n",
        "\n",
        "cv_results"
      ]
    },
    {
      "cell_type": "markdown",
      "id": "55335816-ad33-4d07-b94f-a7c0f7aa6f1c",
      "metadata": {
        "id": "55335816-ad33-4d07-b94f-a7c0f7aa6f1c"
      },
      "source": [
        " ### Прогнозирование с DecisionTreeClassifier"
      ]
    },
    {
      "cell_type": "code",
      "execution_count": null,
      "id": "5d62bf48-5cfa-4bea-9314-f415065f6ff2",
      "metadata": {
        "id": "5d62bf48-5cfa-4bea-9314-f415065f6ff2",
        "outputId": "0e49b418-3e0d-4340-a726-60b715b85759"
      },
      "outputs": [
        {
          "name": "stdout",
          "output_type": "stream",
          "text": [
            "Fit Time: 0.0787 seconds\n",
            "Classification Report:\n",
            "              precision    recall  f1-score   support\n",
            "\n",
            "           0       0.98      1.00      0.99      6787\n",
            "           1       0.00      0.00      0.00       136\n",
            "\n",
            "    accuracy                           0.98      6923\n",
            "   macro avg       0.49      0.50      0.50      6923\n",
            "weighted avg       0.96      0.98      0.97      6923\n",
            "\n",
            "Confusion Matrix:\n",
            "[[6787    0]\n",
            " [ 136    0]]\n"
          ]
        },
        {
          "data": {
            "image/png": "[encoded data removed]",
            "text/plain": [
              "<Figure size 800x600 with 2 Axes>"
            ]
          },
          "metadata": {},
          "output_type": "display_data"
        }
      ],
      "source": [
        "# Старт времени\n",
        "start_time = time.time()\n",
        "\n",
        "# Обучение модели ансамбля\n",
        "tree_model = DecisionTreeClassifier(random_state=55).fit(X_train_smote, y_train_smote)\n",
        "# Фиксация времени\n",
        "fit_time = time.time() - start_time\n",
        "print(f\"Fit Time: {fit_time:.4f} seconds\")\n",
        "\n",
        "\n",
        "# Предсказание на тестовой выборке\n",
        "y_pred = tree_model.predict(X_test_sc)\n",
        "\n",
        "# Вывод отчета по метрикам классификации\n",
        "print(\"Classification Report:\")\n",
        "print(classification_report(y_test, y_pred))\n",
        "\n",
        "# Матрица ошибок\n",
        "print(\"Confusion Matrix:\")\n",
        "conf_matrix = confusion_matrix(y_test, y_pred)\n",
        "print(conf_matrix)\n",
        "\n",
        "plt.figure(figsize=(8, 6))\n",
        "sns.heatmap(conf_matrix, annot=True, cmap='Blues', fmt='d')\n",
        "\n",
        "plt.xlabel('Predicted labels')\n",
        "plt.ylabel('True labels')\n",
        "plt.title('Confusion Matrix')\n",
        "plt.show()"
      ]
    },
    {
      "cell_type": "code",
      "execution_count": null,
      "id": "781ec075-d5fc-4440-babe-eba9cf8f1b74",
      "metadata": {
        "id": "781ec075-d5fc-4440-babe-eba9cf8f1b74"
      },
      "outputs": [],
      "source": []
    }
  ],
  "metadata": {
    "colab": {
      "provenance": []
    },
    "kernelspec": {
      "display_name": "Python 3 (ipykernel)",
      "language": "python",
      "name": "python3"
    },
    "language_info": {
      "codemirror_mode": {
        "name": "ipython",
        "version": 3
      },
      "file_extension": ".py",
      "mimetype": "text/x-python",
      "name": "python",
      "nbconvert_exporter": "python",
      "pygments_lexer": "ipython3",
      "version": "3.9.18"
    }
  },
  "nbformat": 4,
  "nbformat_minor": 5
}