{
  "cells": [
    {
      "cell_type": "code",
      "execution_count": null,
      "id": "9tvZNuysv1gd",
      "metadata": {
        "colab": {
          "base_uri": "https://localhost:8080/"
        },
        "id": "9tvZNuysv1gd",
        "outputId": "7db85b55-6701-4744-b47c-e9fb76f277e5"
      },
      "outputs": [
        {
          "name": "stdout",
          "output_type": "stream",
          "text": [
            "Collecting catboost\n",
            "  Downloading catboost-1.2.2-cp310-cp310-manylinux2014_x86_64.whl (98.7 MB)\n",
            "\u001b[2K     \u001b[90m━━━━━━━━━━━━━━━━━━━━━━━━━━━━━━━━━━━━━━━━\u001b[0m \u001b[32m98.7/98.7 MB\u001b[0m \u001b[31m9.2 MB/s\u001b[0m eta \u001b[36m0:00:00\u001b[0m\n",
            "\u001b[?25hRequirement already satisfied: graphviz in /usr/local/lib/python3.10/dist-packages (from catboost) (0.20.1)\n",
            "Requirement already satisfied: matplotlib in /usr/local/lib/python3.10/dist-packages (from catboost) (3.7.1)\n",
            "Requirement already satisfied: numpy>=1.16.0 in /usr/local/lib/python3.10/dist-packages (from catboost) (1.23.5)\n",
            "Requirement already satisfied: pandas>=0.24 in /usr/local/lib/python3.10/dist-packages (from catboost) (1.5.3)\n",
            "Requirement already satisfied: scipy in /usr/local/lib/python3.10/dist-packages (from catboost) (1.11.4)\n",
            "Requirement already satisfied: plotly in /usr/local/lib/python3.10/dist-packages (from catboost) (5.15.0)\n",
            "Requirement already satisfied: six in /usr/local/lib/python3.10/dist-packages (from catboost) (1.16.0)\n",
            "Requirement already satisfied: python-dateutil>=2.8.1 in /usr/local/lib/python3.10/dist-packages (from pandas>=0.24->catboost) (2.8.2)\n",
            "Requirement already satisfied: pytz>=2020.1 in /usr/local/lib/python3.10/dist-packages (from pandas>=0.24->catboost) (2023.3.post1)\n",
            "Requirement already satisfied: contourpy>=1.0.1 in /usr/local/lib/python3.10/dist-packages (from matplotlib->catboost) (1.2.0)\n",
            "Requirement already satisfied: cycler>=0.10 in /usr/local/lib/python3.10/dist-packages (from matplotlib->catboost) (0.12.1)\n",
            "Requirement already satisfied: fonttools>=4.22.0 in /usr/local/lib/python3.10/dist-packages (from matplotlib->catboost) (4.46.0)\n",
            "Requirement already satisfied: kiwisolver>=1.0.1 in /usr/local/lib/python3.10/dist-packages (from matplotlib->catboost) (1.4.5)\n",
            "Requirement already satisfied: packaging>=20.0 in /usr/local/lib/python3.10/dist-packages (from matplotlib->catboost) (23.2)\n",
            "Requirement already satisfied: pillow>=6.2.0 in /usr/local/lib/python3.10/dist-packages (from matplotlib->catboost) (9.4.0)\n",
            "Requirement already satisfied: pyparsing>=2.3.1 in /usr/local/lib/python3.10/dist-packages (from matplotlib->catboost) (3.1.1)\n",
            "Requirement already satisfied: tenacity>=6.2.0 in /usr/local/lib/python3.10/dist-packages (from plotly->catboost) (8.2.3)\n",
            "Installing collected packages: catboost\n",
            "Successfully installed catboost-1.2.2\n"
          ]
        }
      ],
      "source": [
        "!pip install catboost"
      ]
    },
    {
      "cell_type": "code",
      "execution_count": null,
      "id": "065a2fcc-33aa-4632-8184-c627a07702d1",
      "metadata": {
        "id": "065a2fcc-33aa-4632-8184-c627a07702d1"
      },
      "outputs": [],
      "source": [
        "\n",
        "import pandas as pd\n",
        "import numpy as np\n",
        "from numpy import where\n",
        "\n",
        "import seaborn as sns\n",
        "sns.set_theme(style=\"whitegrid\")\n",
        "import matplotlib.pyplot as plt\n",
        "\n",
        "from sklearn import preprocessing\n",
        "from sklearn.preprocessing import OneHotEncoder\n",
        "from sklearn.model_selection import train_test_split\n",
        "from sklearn.preprocessing import StandardScaler\n",
        "from sklearn.metrics import make_scorer, accuracy_score, precision_score, recall_score, f1_score\n",
        "from sklearn.metrics import roc_auc_score\n",
        "\n",
        "from plotly.subplots import make_subplots\n",
        "import plotly.graph_objs as go\n",
        "from collections import Counter\n",
        "\n",
        "\n",
        "from imblearn.over_sampling import RandomOverSampler\n",
        "import warnings\n",
        "warnings.filterwarnings(action='ignore')\n",
        "from tabulate import tabulate\n",
        "\n",
        "import imblearn\n",
        "from imblearn.over_sampling import SMOTE\n",
        "from imblearn.under_sampling import RandomUnderSampler\n",
        "from imblearn.ensemble import BalancedRandomForestClassifier\n",
        "\n",
        "from sklearn.ensemble import RandomForestClassifier, AdaBoostClassifier, GradientBoostingClassifier ,ExtraTreesClassifier\n",
        "from xgboost import XGBClassifier\n",
        "from lightgbm import LGBMClassifier\n",
        "from catboost import CatBoostClassifier\n",
        "\n",
        "from sklearn.ensemble import BaggingClassifier\n",
        "from sklearn.datasets import make_classification\n",
        "\n",
        "from sklearn.svm import SVC\n",
        "from sklearn.tree import DecisionTreeClassifier\n",
        "from sklearn.neighbors import KNeighborsClassifier"
      ]
    },
    {
      "cell_type": "code",
      "execution_count": null,
      "id": "141bad92-717c-4928-b354-2a39086fbc1e",
      "metadata": {
        "id": "141bad92-717c-4928-b354-2a39086fbc1e"
      },
      "outputs": [],
      "source": [
        "from mlxtend.classifier import EnsembleVoteClassifier\n",
        "from sklearn.metrics import classification_report, confusion_matrix"
      ]
    },
    {
      "cell_type": "code",
      "execution_count": null,
      "id": "b92ea0e7-7384-40a8-9072-866bf7d21405",
      "metadata": {
        "id": "b92ea0e7-7384-40a8-9072-866bf7d21405"
      },
      "outputs": [],
      "source": [
        "import time"
      ]
    },
    {
      "cell_type": "code",
      "source": [
        "from google.colab import files\n",
        "uploaded = files.upload()"
      ],
      "metadata": {
        "id": "QXRMQoMjcatf"
      },
      "id": "QXRMQoMjcatf",
      "execution_count": null,
      "outputs": []
    },
    {
      "cell_type": "code",
      "execution_count": null,
      "id": "b4a58158",
      "metadata": {
        "colab": {
          "base_uri": "https://localhost:8080/",
          "height": 461
        },
        "id": "b4a58158",
        "outputId": "6fb98931-cf02-46da-c0fb-5971760e96cd"
      },
      "outputs": [
        {
          "data": {
            "text/html": [
              "<div>\n",
              "<style scoped>\n",
              "    .dataframe tbody tr th:only-of-type {\n",
              "        vertical-align: middle;\n",
              "    }\n",
              "\n",
              "    .dataframe tbody tr th {\n",
              "        vertical-align: top;\n",
              "    }\n",
              "\n",
              "    .dataframe thead th {\n",
              "        text-align: right;\n",
              "    }\n",
              "</style>\n",
              "<table border=\"1\" class=\"dataframe\">\n",
              "  <thead>\n",
              "    <tr style=\"text-align: right;\">\n",
              "      <th></th>\n",
              "      <th>gender</th>\n",
              "      <th>age</th>\n",
              "      <th>hypertension</th>\n",
              "      <th>heart_disease</th>\n",
              "      <th>ever_married</th>\n",
              "      <th>Residence_type</th>\n",
              "      <th>avg_glucose_level</th>\n",
              "      <th>bmi</th>\n",
              "      <th>stroke</th>\n",
              "      <th>formerly smoked</th>\n",
              "      <th>never smoked</th>\n",
              "      <th>smokes</th>\n",
              "      <th>work_Govt_job</th>\n",
              "      <th>work_Never_worked</th>\n",
              "      <th>work_Private</th>\n",
              "      <th>work_Self-employed</th>\n",
              "      <th>work_children</th>\n",
              "    </tr>\n",
              "  </thead>\n",
              "  <tbody>\n",
              "    <tr>\n",
              "      <th>0</th>\n",
              "      <td>0</td>\n",
              "      <td>3</td>\n",
              "      <td>0</td>\n",
              "      <td>0</td>\n",
              "      <td>0</td>\n",
              "      <td>0</td>\n",
              "      <td>95</td>\n",
              "      <td>18</td>\n",
              "      <td>0</td>\n",
              "      <td>0</td>\n",
              "      <td>1</td>\n",
              "      <td>0</td>\n",
              "      <td>0</td>\n",
              "      <td>0</td>\n",
              "      <td>0</td>\n",
              "      <td>0</td>\n",
              "      <td>1</td>\n",
              "    </tr>\n",
              "    <tr>\n",
              "      <th>1</th>\n",
              "      <td>0</td>\n",
              "      <td>58</td>\n",
              "      <td>1</td>\n",
              "      <td>0</td>\n",
              "      <td>1</td>\n",
              "      <td>1</td>\n",
              "      <td>87</td>\n",
              "      <td>39</td>\n",
              "      <td>0</td>\n",
              "      <td>0</td>\n",
              "      <td>1</td>\n",
              "      <td>0</td>\n",
              "      <td>0</td>\n",
              "      <td>0</td>\n",
              "      <td>1</td>\n",
              "      <td>0</td>\n",
              "      <td>0</td>\n",
              "    </tr>\n",
              "    <tr>\n",
              "      <th>2</th>\n",
              "      <td>1</td>\n",
              "      <td>8</td>\n",
              "      <td>0</td>\n",
              "      <td>0</td>\n",
              "      <td>1</td>\n",
              "      <td>1</td>\n",
              "      <td>110</td>\n",
              "      <td>17</td>\n",
              "      <td>0</td>\n",
              "      <td>0</td>\n",
              "      <td>1</td>\n",
              "      <td>0</td>\n",
              "      <td>0</td>\n",
              "      <td>0</td>\n",
              "      <td>1</td>\n",
              "      <td>0</td>\n",
              "      <td>0</td>\n",
              "    </tr>\n",
              "    <tr>\n",
              "      <th>3</th>\n",
              "      <td>1</td>\n",
              "      <td>70</td>\n",
              "      <td>0</td>\n",
              "      <td>0</td>\n",
              "      <td>0</td>\n",
              "      <td>0</td>\n",
              "      <td>69</td>\n",
              "      <td>35</td>\n",
              "      <td>0</td>\n",
              "      <td>1</td>\n",
              "      <td>0</td>\n",
              "      <td>0</td>\n",
              "      <td>0</td>\n",
              "      <td>0</td>\n",
              "      <td>1</td>\n",
              "      <td>0</td>\n",
              "      <td>0</td>\n",
              "    </tr>\n",
              "    <tr>\n",
              "      <th>4</th>\n",
              "      <td>1</td>\n",
              "      <td>52</td>\n",
              "      <td>0</td>\n",
              "      <td>0</td>\n",
              "      <td>1</td>\n",
              "      <td>1</td>\n",
              "      <td>77</td>\n",
              "      <td>17</td>\n",
              "      <td>0</td>\n",
              "      <td>1</td>\n",
              "      <td>0</td>\n",
              "      <td>0</td>\n",
              "      <td>0</td>\n",
              "      <td>0</td>\n",
              "      <td>1</td>\n",
              "      <td>0</td>\n",
              "      <td>0</td>\n",
              "    </tr>\n",
              "    <tr>\n",
              "      <th>...</th>\n",
              "      <td>...</td>\n",
              "      <td>...</td>\n",
              "      <td>...</td>\n",
              "      <td>...</td>\n",
              "      <td>...</td>\n",
              "      <td>...</td>\n",
              "      <td>...</td>\n",
              "      <td>...</td>\n",
              "      <td>...</td>\n",
              "      <td>...</td>\n",
              "      <td>...</td>\n",
              "      <td>...</td>\n",
              "      <td>...</td>\n",
              "      <td>...</td>\n",
              "      <td>...</td>\n",
              "      <td>...</td>\n",
              "      <td>...</td>\n",
              "    </tr>\n",
              "    <tr>\n",
              "      <th>34607</th>\n",
              "      <td>1</td>\n",
              "      <td>10</td>\n",
              "      <td>0</td>\n",
              "      <td>0</td>\n",
              "      <td>1</td>\n",
              "      <td>1</td>\n",
              "      <td>58</td>\n",
              "      <td>20</td>\n",
              "      <td>0</td>\n",
              "      <td>0</td>\n",
              "      <td>1</td>\n",
              "      <td>0</td>\n",
              "      <td>0</td>\n",
              "      <td>0</td>\n",
              "      <td>0</td>\n",
              "      <td>0</td>\n",
              "      <td>1</td>\n",
              "    </tr>\n",
              "    <tr>\n",
              "      <th>34608</th>\n",
              "      <td>1</td>\n",
              "      <td>56</td>\n",
              "      <td>0</td>\n",
              "      <td>0</td>\n",
              "      <td>1</td>\n",
              "      <td>1</td>\n",
              "      <td>213</td>\n",
              "      <td>55</td>\n",
              "      <td>0</td>\n",
              "      <td>1</td>\n",
              "      <td>0</td>\n",
              "      <td>0</td>\n",
              "      <td>1</td>\n",
              "      <td>0</td>\n",
              "      <td>0</td>\n",
              "      <td>0</td>\n",
              "      <td>0</td>\n",
              "    </tr>\n",
              "    <tr>\n",
              "      <th>34609</th>\n",
              "      <td>1</td>\n",
              "      <td>82</td>\n",
              "      <td>1</td>\n",
              "      <td>0</td>\n",
              "      <td>1</td>\n",
              "      <td>1</td>\n",
              "      <td>91</td>\n",
              "      <td>28</td>\n",
              "      <td>0</td>\n",
              "      <td>1</td>\n",
              "      <td>0</td>\n",
              "      <td>0</td>\n",
              "      <td>0</td>\n",
              "      <td>0</td>\n",
              "      <td>1</td>\n",
              "      <td>0</td>\n",
              "      <td>0</td>\n",
              "    </tr>\n",
              "    <tr>\n",
              "      <th>34610</th>\n",
              "      <td>0</td>\n",
              "      <td>40</td>\n",
              "      <td>0</td>\n",
              "      <td>0</td>\n",
              "      <td>1</td>\n",
              "      <td>1</td>\n",
              "      <td>99</td>\n",
              "      <td>33</td>\n",
              "      <td>0</td>\n",
              "      <td>0</td>\n",
              "      <td>1</td>\n",
              "      <td>0</td>\n",
              "      <td>0</td>\n",
              "      <td>0</td>\n",
              "      <td>1</td>\n",
              "      <td>0</td>\n",
              "      <td>0</td>\n",
              "    </tr>\n",
              "    <tr>\n",
              "      <th>34611</th>\n",
              "      <td>1</td>\n",
              "      <td>82</td>\n",
              "      <td>0</td>\n",
              "      <td>0</td>\n",
              "      <td>1</td>\n",
              "      <td>1</td>\n",
              "      <td>79</td>\n",
              "      <td>20</td>\n",
              "      <td>0</td>\n",
              "      <td>0</td>\n",
              "      <td>1</td>\n",
              "      <td>0</td>\n",
              "      <td>0</td>\n",
              "      <td>0</td>\n",
              "      <td>1</td>\n",
              "      <td>0</td>\n",
              "      <td>0</td>\n",
              "    </tr>\n",
              "  </tbody>\n",
              "</table>\n",
              "<p>34612 rows × 17 columns</p>\n",
              "</div>"
            ],
            "text/plain": [
              "       gender  age  hypertension  heart_disease  ever_married  Residence_type  \\\n",
              "0           0    3             0              0             0               0   \n",
              "1           0   58             1              0             1               1   \n",
              "2           1    8             0              0             1               1   \n",
              "3           1   70             0              0             0               0   \n",
              "4           1   52             0              0             1               1   \n",
              "...       ...  ...           ...            ...           ...             ...   \n",
              "34607       1   10             0              0             1               1   \n",
              "34608       1   56             0              0             1               1   \n",
              "34609       1   82             1              0             1               1   \n",
              "34610       0   40             0              0             1               1   \n",
              "34611       1   82             0              0             1               1   \n",
              "\n",
              "       avg_glucose_level  bmi  stroke  formerly smoked  never smoked  smokes  \\\n",
              "0                     95   18       0                0             1       0   \n",
              "1                     87   39       0                0             1       0   \n",
              "2                    110   17       0                0             1       0   \n",
              "3                     69   35       0                1             0       0   \n",
              "4                     77   17       0                1             0       0   \n",
              "...                  ...  ...     ...              ...           ...     ...   \n",
              "34607                 58   20       0                0             1       0   \n",
              "34608                213   55       0                1             0       0   \n",
              "34609                 91   28       0                1             0       0   \n",
              "34610                 99   33       0                0             1       0   \n",
              "34611                 79   20       0                0             1       0   \n",
              "\n",
              "       work_Govt_job  work_Never_worked  work_Private  work_Self-employed  \\\n",
              "0                  0                  0             0                   0   \n",
              "1                  0                  0             1                   0   \n",
              "2                  0                  0             1                   0   \n",
              "3                  0                  0             1                   0   \n",
              "4                  0                  0             1                   0   \n",
              "...              ...                ...           ...                 ...   \n",
              "34607              0                  0             0                   0   \n",
              "34608              1                  0             0                   0   \n",
              "34609              0                  0             1                   0   \n",
              "34610              0                  0             1                   0   \n",
              "34611              0                  0             1                   0   \n",
              "\n",
              "       work_children  \n",
              "0                  1  \n",
              "1                  0  \n",
              "2                  0  \n",
              "3                  0  \n",
              "4                  0  \n",
              "...              ...  \n",
              "34607              1  \n",
              "34608              0  \n",
              "34609              0  \n",
              "34610              0  \n",
              "34611              0  \n",
              "\n",
              "[34612 rows x 17 columns]"
            ]
          },
          "execution_count": 6,
          "metadata": {},
          "output_type": "execute_result"
        }
      ],
      "source": [
        "data = pd.read_csv('second.csv')\n",
        "data"
      ]
    },
    {
      "cell_type": "markdown",
      "id": "c2979b24",
      "metadata": {
        "id": "c2979b24"
      },
      "source": [
        "## Train-Test Split"
      ]
    },
    {
      "cell_type": "code",
      "execution_count": null,
      "id": "d1469211",
      "metadata": {
        "id": "d1469211"
      },
      "outputs": [],
      "source": [
        "y = data['stroke']\n",
        "X = data.drop('stroke', axis=1)"
      ]
    },
    {
      "cell_type": "code",
      "execution_count": null,
      "id": "5d4ee78a",
      "metadata": {
        "id": "5d4ee78a"
      },
      "outputs": [],
      "source": [
        "X_train, X_test, y_train, y_test = train_test_split(X, y, test_size= 0.2, random_state= 42)"
      ]
    },
    {
      "cell_type": "code",
      "execution_count": null,
      "id": "5884b330-a2af-47d2-8a3e-5be925bf75e1",
      "metadata": {
        "colab": {
          "base_uri": "https://localhost:8080/"
        },
        "id": "5884b330-a2af-47d2-8a3e-5be925bf75e1",
        "outputId": "1cfe0c7d-9ebc-4e51-c29a-0f869be02dce"
      },
      "outputs": [
        {
          "data": {
            "text/plain": [
              "17561    0\n",
              "30884    0\n",
              "251      0\n",
              "30728    0\n",
              "22327    0\n",
              "        ..\n",
              "22524    0\n",
              "5511     0\n",
              "26349    0\n",
              "1266     0\n",
              "33675    0\n",
              "Name: stroke, Length: 6923, dtype: int64"
            ]
          },
          "execution_count": 9,
          "metadata": {},
          "output_type": "execute_result"
        }
      ],
      "source": [
        "y_test"
      ]
    },
    {
      "cell_type": "code",
      "execution_count": null,
      "id": "f6ff412e-190d-4d6f-89e9-a9eab9f3dca7",
      "metadata": {
        "colab": {
          "base_uri": "https://localhost:8080/"
        },
        "id": "f6ff412e-190d-4d6f-89e9-a9eab9f3dca7",
        "outputId": "b38c00ca-7cb0-4e59-8b22-a7110cc932c7"
      },
      "outputs": [
        {
          "data": {
            "text/plain": [
              "Counter({0: 27187, 1: 502})"
            ]
          },
          "execution_count": 10,
          "metadata": {},
          "output_type": "execute_result"
        }
      ],
      "source": [
        "# Общее количество\n",
        "cou = Counter(y_train)\n",
        "cou"
      ]
    },
    {
      "cell_type": "code",
      "execution_count": null,
      "id": "ff53f776-0809-430f-a5dc-61f1c145c7bc",
      "metadata": {
        "id": "ff53f776-0809-430f-a5dc-61f1c145c7bc"
      },
      "outputs": [],
      "source": [
        "sns.countplot(x=y_train, data=X_train)\n",
        "plt.title(\"Количество пациентов без инсульта & с инсультом. Несбалансированные данные\")\n",
        "plt.show()"
      ]
    },
    {
      "cell_type": "markdown",
      "id": "4cdc7330",
      "metadata": {
        "id": "4cdc7330"
      },
      "source": [
        "## Масштабирование данных"
      ]
    },
    {
      "cell_type": "code",
      "execution_count": null,
      "id": "8cd8c178",
      "metadata": {
        "id": "8cd8c178"
      },
      "outputs": [],
      "source": [
        "sc = StandardScaler()\n",
        "X_train_sc = sc.fit_transform(X_train)\n",
        "X_test_sc = sc.transform(X_test)\n",
        "\n"
      ]
    },
    {
      "cell_type": "code",
      "execution_count": null,
      "id": "b83e9003-e409-4ea9-af1a-2e5a652cd091",
      "metadata": {
        "colab": {
          "base_uri": "https://localhost:8080/"
        },
        "id": "b83e9003-e409-4ea9-af1a-2e5a652cd091",
        "outputId": "85b959e9-c0f7-4d9a-e390-3adf9bf3e0df"
      },
      "outputs": [
        {
          "data": {
            "text/plain": [
              "array([[-1.21627131,  0.34012719, -0.33380798, ..., -1.14157529,\n",
              "         2.31284064, -0.41851513],\n",
              "       [-1.21627131, -0.70996345, -0.33380798, ...,  0.87598252,\n",
              "        -0.43236874, -0.41851513],\n",
              "       [ 0.82218498,  1.69649426, -0.33380798, ...,  0.87598252,\n",
              "        -0.43236874, -0.41851513],\n",
              "       ...,\n",
              "       [ 0.82218498, -0.49119457, -0.33380798, ...,  0.87598252,\n",
              "        -0.43236874, -0.41851513],\n",
              "       [-1.21627131,  0.07760453, -0.33380798, ..., -1.14157529,\n",
              "        -0.43236874, -0.41851513],\n",
              "       [ 0.82218498,  0.73391118, -0.33380798, ..., -1.14157529,\n",
              "        -0.43236874, -0.41851513]])"
            ]
          },
          "execution_count": 13,
          "metadata": {},
          "output_type": "execute_result"
        }
      ],
      "source": [
        "X_train_sc"
      ]
    },
    {
      "cell_type": "code",
      "execution_count": null,
      "id": "5bac3252-fc77-4391-9725-ff6fee15d4e8",
      "metadata": {
        "colab": {
          "base_uri": "https://localhost:8080/"
        },
        "id": "5bac3252-fc77-4391-9725-ff6fee15d4e8",
        "outputId": "e9de7db2-d847-4a68-be86-2c530f1aa5ab"
      },
      "outputs": [
        {
          "name": "stdout",
          "output_type": "stream",
          "text": [
            "1.0\n"
          ]
        }
      ],
      "source": [
        "std_per_feature = X_train_sc.std()\n",
        "print(std_per_feature)"
      ]
    },
    {
      "cell_type": "code",
      "execution_count": null,
      "id": "c530b92d-619c-4d83-9fe4-033962170c40",
      "metadata": {
        "colab": {
          "base_uri": "https://localhost:8080/"
        },
        "id": "c530b92d-619c-4d83-9fe4-033962170c40",
        "outputId": "d046d097-56cf-43d3-fdbd-245ef6c3778e"
      },
      "outputs": [
        {
          "name": "stdout",
          "output_type": "stream",
          "text": [
            "-1.1627891117096877e-18\n"
          ]
        }
      ],
      "source": [
        "mean_per_feature = X_train_sc.mean()\n",
        "print(mean_per_feature)"
      ]
    },
    {
      "cell_type": "code",
      "execution_count": null,
      "id": "0a5fa62e-45b0-45f1-8f78-56b75815e265",
      "metadata": {
        "id": "0a5fa62e-45b0-45f1-8f78-56b75815e265",
        "outputId": "0bea620c-80d7-4f30-b82c-7628b859c746"
      },
      "outputs": [
        {
          "data": {
            "text/plain": [
              "27689"
            ]
          },
          "execution_count": 16,
          "metadata": {},
          "output_type": "execute_result"
        }
      ],
      "source": [
        "len(X_train_sc)"
      ]
    },
    {
      "cell_type": "markdown",
      "id": "1797ada0",
      "metadata": {
        "id": "1797ada0"
      },
      "source": [
        "# Балансировка данных при помощи SMOTE"
      ]
    },
    {
      "cell_type": "code",
      "execution_count": null,
      "id": "3bc935b4",
      "metadata": {
        "colab": {
          "base_uri": "https://localhost:8080/"
        },
        "id": "3bc935b4",
        "outputId": "60934fc0-52f1-4c42-e14a-b8f4e024fcf8"
      },
      "outputs": [
        {
          "name": "stdout",
          "output_type": "stream",
          "text": [
            "Before Smote, counts of label '1': 502\n",
            "Before Smote, counts of label '0': 27187 \n",
            "\n",
            "After Smote, the shape of train_X: (54374, 16)\n",
            "After Smote, the shape of train_y: (54374,) \n",
            "\n",
            "After Smote, counts of label '1': 27187\n",
            "After Smote, counts of label '0': 27187\n"
          ]
        }
      ],
      "source": [
        "\n",
        "print(\"Before Smote, counts of label '1': {}\".format(sum(y_train==1)))\n",
        "print(\"Before Smote, counts of label '0': {} \\n\".format(sum(y_train==0)))\n",
        "\n",
        "sm = SMOTE(random_state=42)\n",
        "#Функция ravel() в библиотеке NumPy используется для преобразования многомерного массива в одномерный массив.\n",
        "#Она возвращает новый одномерный массив, содержащий те же элементы, что и исходный массив, но расположенные в одномерной последовательности.\n",
        "X_train_smote, y_train_smote = sm.fit_resample(X_train_sc, y_train.ravel()) # Skailing (здесь мы применяем масштабированные данные)\n",
        "\n",
        "print('After Smote, the shape of train_X: {}'.format(X_train_smote.shape))\n",
        "print('After Smote, the shape of train_y: {} \\n'.format(y_train_smote.shape))\n",
        "\n",
        "print(\"After Smote, counts of label '1': {}\".format(sum(y_train_smote==1)))\n",
        "print(\"After Smote, counts of label '0': {}\".format(sum(y_train_smote==0)))"
      ]
    },
    {
      "cell_type": "code",
      "execution_count": null,
      "id": "aeab327f-19ae-4003-9e4e-b7a308d5bf00",
      "metadata": {
        "id": "aeab327f-19ae-4003-9e4e-b7a308d5bf00"
      },
      "outputs": [],
      "source": [
        "fig, ax = plt.subplots(1, 2, figsize=(15,8))\n",
        "fig.suptitle('Before and after SMOTE')\n",
        "sns.countplot(ax=ax[0], x=y_train, palette=[\"#bff2d9\", \"#fc4c84\"])\n",
        "ax[0].set_title(\"before\")\n",
        "\n",
        "sns.countplot(ax=ax[1], x=y_train_smote, palette=[\"#bff2d9\", \"#fc4c84\"])\n",
        "ax[1].set_title('after')\n",
        "\n",
        "fig.show()"
      ]
    },
    {
      "cell_type": "markdown",
      "id": "e64a257b",
      "metadata": {
        "id": "e64a257b"
      },
      "source": [
        "##  Random Oversampling"
      ]
    },
    {
      "cell_type": "code",
      "execution_count": null,
      "id": "7f6bb317",
      "metadata": {
        "colab": {
          "base_uri": "https://localhost:8080/"
        },
        "id": "7f6bb317",
        "outputId": "d4f2c7fa-ad4f-41c1-fbb4-693bf4e4ca4c"
      },
      "outputs": [
        {
          "name": "stdout",
          "output_type": "stream",
          "text": [
            "Before OverSampling, counts of label '1': 502\n",
            "Before OverSampling, counts of label '0': 27187 \n",
            "\n",
            "After OverSampling, the shape of train_X: (54374, 16)\n",
            "After OverSampling, the shape of train_y: (54374,) \n",
            "\n",
            "After OverSampling, counts of label '1': 27187\n",
            "After OverSampling, counts of label '0': 27187\n"
          ]
        }
      ],
      "source": [
        "\n",
        "\n",
        "print(\"Before OverSampling, counts of label '1': {}\".format(sum(y_train==1)))\n",
        "print(\"Before OverSampling, counts of label '0': {} \\n\".format(sum(y_train==0)))\n",
        "\n",
        "oversample = RandomOverSampler(random_state=42,sampling_strategy='minority')\n",
        "X_train_over, y_train_over = oversample.fit_resample(X_train_sc, y_train)\n",
        "\n",
        "print('After OverSampling, the shape of train_X: {}'.format(X_train_over.shape))\n",
        "print('After OverSampling, the shape of train_y: {} \\n'.format(y_train_over.shape))\n",
        "\n",
        "print(\"After OverSampling, counts of label '1': {}\".format(sum(y_train_over==1)))\n",
        "print(\"After OverSampling, counts of label '0': {}\".format(sum(y_train_over==0)))"
      ]
    },
    {
      "cell_type": "code",
      "execution_count": null,
      "id": "cf589919-f218-43ef-a0ae-6133f7fcdca4",
      "metadata": {
        "id": "cf589919-f218-43ef-a0ae-6133f7fcdca4"
      },
      "outputs": [],
      "source": [
        "fig, ax = plt.subplots(1, 2, figsize=(15,8))\n",
        "fig.suptitle('Before and after RandomOversampling')\n",
        "sns.countplot(ax=ax[0], x=y_train, palette=[\"#bff2d9\", \"#fc4c84\"])\n",
        "ax[0].set_title(\"before\")\n",
        "\n",
        "sns.countplot(ax=ax[1], x=y_train_over, palette=[\"#bff2d9\", \"#fc4c84\"])\n",
        "ax[1].set_title('after')\n",
        "\n",
        "fig.show()"
      ]
    },
    {
      "cell_type": "markdown",
      "id": "5aceaa03",
      "metadata": {
        "id": "5aceaa03"
      },
      "source": [
        "## Random Undersampling"
      ]
    },
    {
      "cell_type": "code",
      "execution_count": null,
      "id": "2f86e5a5",
      "metadata": {
        "colab": {
          "base_uri": "https://localhost:8080/"
        },
        "id": "2f86e5a5",
        "outputId": "de401c39-9fb4-4b0a-c3eb-da425cf9e10e"
      },
      "outputs": [
        {
          "name": "stdout",
          "output_type": "stream",
          "text": [
            "Before UnderSampling, counts of label '1': 502\n",
            "Before UnderSampling, counts of label '0': 27187 \n",
            "\n",
            "After UnderSampling, the shape of train_X: (1004, 16)\n",
            "After UnderSampling, the shape of train_y: (1004,) \n",
            "\n",
            "After UnderSampling, counts of label '1': 502\n",
            "After UnderSampling, counts of label '0': 502\n"
          ]
        }
      ],
      "source": [
        "\n",
        "\n",
        "print(\"Before UnderSampling, counts of label '1': {}\".format(sum(y_train==1)))\n",
        "print(\"Before UnderSampling, counts of label '0': {} \\n\".format(sum(y_train==0)))\n",
        "\n",
        "rus = RandomUnderSampler(random_state=42)\n",
        "X_train_under, y_train_under = rus.fit_resample(X_train_sc, y_train.ravel())\n",
        "\n",
        "print('After UnderSampling, the shape of train_X: {}'.format(X_train_under.shape))\n",
        "print('After UnderSampling, the shape of train_y: {} \\n'.format(y_train_under.shape))\n",
        "\n",
        "print(\"After UnderSampling, counts of label '1': {}\".format(sum(y_train_under==1)))\n",
        "print(\"After UnderSampling, counts of label '0': {}\".format(sum(y_train_under==0)))"
      ]
    },
    {
      "cell_type": "code",
      "execution_count": null,
      "id": "f477bd05-efde-4bb7-ab59-d30e64990fbf",
      "metadata": {
        "id": "f477bd05-efde-4bb7-ab59-d30e64990fbf"
      },
      "outputs": [],
      "source": [
        "fig, ax = plt.subplots(1, 2, figsize=(15,8))\n",
        "fig.suptitle('Before and after RandomUndersampling')\n",
        "sns.countplot(ax=ax[0], x=y_train, palette=[\"#bff2d9\", \"#fc4c84\"])\n",
        "ax[0].set_title(\"before\")\n",
        "\n",
        "sns.countplot(ax=ax[1], x=y_train_under, palette=[\"#bff2d9\", \"#fc4c84\"])\n",
        "ax[1].set_title('after')\n",
        "\n",
        "fig.show()"
      ]
    },
    {
      "cell_type": "markdown",
      "id": "8bc33d3c-7a78-4395-96d7-a7c6201a5534",
      "metadata": {
        "id": "8bc33d3c-7a78-4395-96d7-a7c6201a5534"
      },
      "source": [
        "## Ансамблевые методы"
      ]
    },
    {
      "cell_type": "markdown",
      "id": "3de489ab-3e36-4631-a661-3049bb152707",
      "metadata": {
        "id": "3de489ab-3e36-4631-a661-3049bb152707"
      },
      "source": [
        "# Stacking: SMOTE"
      ]
    },
    {
      "cell_type": "code",
      "execution_count": null,
      "id": "7_iXKAJd1sVp",
      "metadata": {
        "id": "7_iXKAJd1sVp"
      },
      "outputs": [],
      "source": [
        "from sklearn.model_selection import cross_validate\n",
        "from sklearn.metrics import make_scorer, accuracy_score, precision_score, recall_score, f1_score"
      ]
    },
    {
      "cell_type": "code",
      "execution_count": null,
      "id": "d2bd2011-e14d-444b-9d89-4f7e42327173",
      "metadata": {
        "id": "d2bd2011-e14d-444b-9d89-4f7e42327173"
      },
      "outputs": [],
      "source": [
        "from sklearn.ensemble import BaggingClassifier\n",
        "from sklearn.datasets import make_classification\n",
        "\n",
        "from sklearn.svm import SVC\n",
        "from sklearn.tree import DecisionTreeClassifier\n",
        "from sklearn.neighbors import KNeighborsClassifier\n"
      ]
    },
    {
      "cell_type": "code",
      "execution_count": null,
      "id": "27d5ace6-888e-4e62-bd05-aa3b3c407211",
      "metadata": {
        "colab": {
          "base_uri": "https://localhost:8080/"
        },
        "id": "27d5ace6-888e-4e62-bd05-aa3b3c407211",
        "outputId": "19f35e39-289f-4263-f8fc-ed3fabb87d26"
      },
      "outputs": [
        {
          "name": "stdout",
          "output_type": "stream",
          "text": [
            "Requirement already satisfied: mlxtend in /usr/local/lib/python3.10/dist-packages (0.22.0)\n",
            "Requirement already satisfied: scipy>=1.2.1 in /usr/local/lib/python3.10/dist-packages (from mlxtend) (1.11.4)\n",
            "Requirement already satisfied: numpy>=1.16.2 in /usr/local/lib/python3.10/dist-packages (from mlxtend) (1.23.5)\n",
            "Requirement already satisfied: pandas>=0.24.2 in /usr/local/lib/python3.10/dist-packages (from mlxtend) (1.5.3)\n",
            "Requirement already satisfied: scikit-learn>=1.0.2 in /usr/local/lib/python3.10/dist-packages (from mlxtend) (1.2.2)\n",
            "Requirement already satisfied: matplotlib>=3.0.0 in /usr/local/lib/python3.10/dist-packages (from mlxtend) (3.7.1)\n",
            "Requirement already satisfied: joblib>=0.13.2 in /usr/local/lib/python3.10/dist-packages (from mlxtend) (1.3.2)\n",
            "Requirement already satisfied: setuptools in /usr/local/lib/python3.10/dist-packages (from mlxtend) (67.7.2)\n",
            "Requirement already satisfied: contourpy>=1.0.1 in /usr/local/lib/python3.10/dist-packages (from matplotlib>=3.0.0->mlxtend) (1.2.0)\n",
            "Requirement already satisfied: cycler>=0.10 in /usr/local/lib/python3.10/dist-packages (from matplotlib>=3.0.0->mlxtend) (0.12.1)\n",
            "Requirement already satisfied: fonttools>=4.22.0 in /usr/local/lib/python3.10/dist-packages (from matplotlib>=3.0.0->mlxtend) (4.46.0)\n",
            "Requirement already satisfied: kiwisolver>=1.0.1 in /usr/local/lib/python3.10/dist-packages (from matplotlib>=3.0.0->mlxtend) (1.4.5)\n",
            "Requirement already satisfied: packaging>=20.0 in /usr/local/lib/python3.10/dist-packages (from matplotlib>=3.0.0->mlxtend) (23.2)\n",
            "Requirement already satisfied: pillow>=6.2.0 in /usr/local/lib/python3.10/dist-packages (from matplotlib>=3.0.0->mlxtend) (9.4.0)\n",
            "Requirement already satisfied: pyparsing>=2.3.1 in /usr/local/lib/python3.10/dist-packages (from matplotlib>=3.0.0->mlxtend) (3.1.1)\n",
            "Requirement already satisfied: python-dateutil>=2.7 in /usr/local/lib/python3.10/dist-packages (from matplotlib>=3.0.0->mlxtend) (2.8.2)\n",
            "Requirement already satisfied: pytz>=2020.1 in /usr/local/lib/python3.10/dist-packages (from pandas>=0.24.2->mlxtend) (2023.3.post1)\n",
            "Requirement already satisfied: threadpoolctl>=2.0.0 in /usr/local/lib/python3.10/dist-packages (from scikit-learn>=1.0.2->mlxtend) (3.2.0)\n",
            "Requirement already satisfied: six>=1.5 in /usr/local/lib/python3.10/dist-packages (from python-dateutil>=2.7->matplotlib>=3.0.0->mlxtend) (1.16.0)\n"
          ]
        }
      ],
      "source": [
        "!pip install mlxtend"
      ]
    },
    {
      "cell_type": "code",
      "execution_count": null,
      "id": "55838a2b-b246-4e08-8ec9-38eba05c78bf",
      "metadata": {
        "id": "55838a2b-b246-4e08-8ec9-38eba05c78bf",
        "outputId": "d68cdb80-6fa8-41df-94f6-30d252bd8871",
        "scrolled": true
      },
      "outputs": [
        {
          "name": "stdout",
          "output_type": "stream",
          "text": [
            "Fit Time: 14.0657300949 seconds\n",
            "Classification Report:\n",
            "              precision    recall  f1-score   support\n",
            "\n",
            "           0       0.98      1.00      0.99      6787\n",
            "           1       0.12      0.01      0.03       136\n",
            "\n",
            "    accuracy                           0.98      6923\n",
            "   macro avg       0.55      0.51      0.51      6923\n",
            "weighted avg       0.96      0.98      0.97      6923\n",
            "\n",
            "Confusion Matrix:\n",
            "[[6772   15]\n",
            " [ 134    2]]\n"
          ]
        },
        {
          "data": {
            "image/png": "[encoded data removed]",
            "text/plain": [
              "<Figure size 800x600 with 2 Axes>"
            ]
          },
          "metadata": {},
          "output_type": "display_data"
        }
      ],
      "source": [
        " #Создание базовых моделей\n",
        "model1 = GradientBoostingClassifier(n_estimators=100, random_state=42)\n",
        "model2 = AdaBoostClassifier(n_estimators=100, random_state=42)\n",
        "model3 = XGBClassifier(n_estimators=100, random_state=42)\n",
        "model4 = LGBMClassifier(n_estimators=100, random_state=42, verbose=-1)\n",
        "model5 = CatBoostClassifier(iterations=100, random_state=42, verbose=False)\n",
        "\n",
        "# Создание объекта EnsembleVoteClassifier\n",
        "ensemble = EnsembleVoteClassifier(clfs=[model1, model2, model3, model4, model5])\n",
        "# Старт времени\n",
        "start_time = time.time()\n",
        "# Обучение модели ансамбля\n",
        "ensemble.fit(X_train_smote, y_train_smote)\n",
        "\n",
        "# Фиксация времени\n",
        "fit_time = time.time() - start_time\n",
        "\n",
        "print(f\"Fit Time: {fit_time:.10f} seconds\")\n",
        "\n",
        "# Предсказание на тестовой выборке\n",
        "y_pred = ensemble.predict(X_test_sc)\n",
        "\n",
        "# Вывод отчета по метрикам классификации\n",
        "print(\"Classification Report:\")\n",
        "print(classification_report(y_test, y_pred))\n",
        "\n",
        "# Матрица ошибок\n",
        "print(\"Confusion Matrix:\")\n",
        "conf_matrix = confusion_matrix(y_test, y_pred)\n",
        "print(conf_matrix)\n",
        "\n",
        "plt.figure(figsize=(8, 6))\n",
        "sns.heatmap(conf_matrix, annot=True, cmap='Blues', fmt='d')\n",
        "\n",
        "plt.xlabel('Predicted labels')\n",
        "plt.ylabel('True labels')\n",
        "plt.title('Confusion Matrix')\n",
        "plt.show()"
      ]
    },
    {
      "cell_type": "code",
      "execution_count": null,
      "id": "254ab254-9bb1-49e8-860d-09d91e2a8b8e",
      "metadata": {
        "id": "254ab254-9bb1-49e8-860d-09d91e2a8b8e"
      },
      "outputs": [],
      "source": [
        "# Получение предсказанных вероятностей для каждого класса\n",
        "y_ens =ensemble.predict_proba(X_test_sc)\n",
        "\n",
        "# Предсказанные вероятности для класса 1\n",
        "# Обычно класс 1 соответствует второму столбцу возвращаемого массива\n",
        "y_ens_class_1 = y_ens[:, 1]\n"
      ]
    },
    {
      "cell_type": "code",
      "execution_count": null,
      "id": "ca2ed925-5410-44fb-85f3-0ea87ebb8d9b",
      "metadata": {
        "id": "ca2ed925-5410-44fb-85f3-0ea87ebb8d9b",
        "outputId": "29402549-64bd-4ef9-c785-3ac33f77c514"
      },
      "outputs": [
        {
          "name": "stdout",
          "output_type": "stream",
          "text": [
            "AUC-ROC_1: 0.830923521611385\n"
          ]
        }
      ],
      "source": [
        "# Расчет AUC-ROC\n",
        "auc = roc_auc_score(y_test,y_ens_class_1)\n",
        "print(f\"AUC-ROC_1: {auc}\")"
      ]
    },
    {
      "cell_type": "code",
      "execution_count": null,
      "id": "e21a800a-ec65-43dc-be15-b0099f26d65c",
      "metadata": {
        "id": "e21a800a-ec65-43dc-be15-b0099f26d65c",
        "outputId": "e44a9462-3dc1-4262-dc49-ba261181a567"
      },
      "outputs": [
        {
          "name": "stdout",
          "output_type": "stream",
          "text": [
            "Fit Time: 231.6633729935 seconds\n",
            "Classification Report:\n",
            "              precision    recall  f1-score   support\n",
            "\n",
            "           0       0.98      0.96      0.97      6787\n",
            "           1       0.04      0.08      0.06       136\n",
            "\n",
            "    accuracy                           0.95      6923\n",
            "   macro avg       0.51      0.52      0.51      6923\n",
            "weighted avg       0.96      0.95      0.95      6923\n",
            "\n",
            "Confusion Matrix:\n",
            "[[6545  242]\n",
            " [ 125   11]]\n"
          ]
        },
        {
          "data": {
            "image/png": "[encoded data removed]",
            "text/plain": [
              "<Figure size 800x600 with 2 Axes>"
            ]
          },
          "metadata": {},
          "output_type": "display_data"
        }
      ],
      "source": [
        "# Создание базовых моделей\n",
        "model_1 = RandomForestClassifier(n_estimators=100, random_state=42)\n",
        "model_2 = SVC(probability=True)\n",
        "model_3 = DecisionTreeClassifier(random_state=42)\n",
        "model_4 = KNeighborsClassifier()\n",
        "\n",
        "# Создание объекта EnsembleVoteClassifier\n",
        "ensemble_1 = EnsembleVoteClassifier(clfs=[model_1,model_2,model_3,model_4],voting='hard')  # 'hard' voting combines predictions by majority voting\n",
        "# Старт времени\n",
        "start_time = time.time()\n",
        "# Обучение модели ансамбля\n",
        "ensemble_1.fit(X_train_smote, y_train_smote)\n",
        "# Фиксация времени\n",
        "fit_time = time.time() - start_time\n",
        "print(f\"Fit Time: {fit_time:.10f} seconds\")\n",
        "\n",
        "\n",
        "# Предсказание на тестовой выборке\n",
        "y_pred = ensemble_1.predict(X_test_sc)\n",
        "\n",
        "# Матрица ошибок\n",
        "conf_matrix = confusion_matrix(y_test, y_pred)\n",
        "# Вывод отчета по метрикам классификации\n",
        "print(\"Classification Report:\")\n",
        "print(classification_report(y_test, y_pred))\n",
        "\n",
        "# Матрица ошибок (вывод)\n",
        "print(\"Confusion Matrix:\")\n",
        "print(conf_matrix)\n",
        "\n",
        "plt.figure(figsize=(8, 6))\n",
        "sns.heatmap(conf_matrix, annot=True, cmap='Blues', fmt='d')\n",
        "\n",
        "plt.xlabel('Predicted labels')\n",
        "plt.ylabel('True labels')\n",
        "plt.title('Confusion Matrix')\n",
        "plt.show()"
      ]
    },
    {
      "cell_type": "code",
      "execution_count": null,
      "id": "d6d14fe2-081d-47a5-96e0-d99387678c5b",
      "metadata": {
        "id": "d6d14fe2-081d-47a5-96e0-d99387678c5b"
      },
      "outputs": [],
      "source": [
        "# Получение предсказанных вероятностей для каждого класса\n",
        "y_ens_1 =ensemble_1.predict_proba(X_test_sc)\n",
        "\n",
        "# Предсказанные вероятности для класса 1\n",
        "# Обычно класс 1 соответствует второму столбцу возвращаемого массива\n",
        "y_ens_1_class_1 = y_ens_1[:, 1]\n",
        "\n"
      ]
    },
    {
      "cell_type": "code",
      "execution_count": null,
      "id": "b6a8e060-7d15-42d6-944b-0cb4c247e032",
      "metadata": {
        "id": "b6a8e060-7d15-42d6-944b-0cb4c247e032",
        "outputId": "0493dee3-df75-4949-e075-afa5c2ac37a1"
      },
      "outputs": [
        {
          "name": "stdout",
          "output_type": "stream",
          "text": [
            "AUC-ROC_1: 0.830923521611385\n"
          ]
        }
      ],
      "source": [
        "\n",
        "# Расчет AUC-ROC\n",
        "auc = roc_auc_score(y_test,y_ens_class_1)\n",
        "print(f\"AUC-ROC_1: {auc}\")\n"
      ]
    },
    {
      "cell_type": "markdown",
      "id": "c2b6c72e-a0b7-47f1-b563-6b2a3783840f",
      "metadata": {
        "id": "c2b6c72e-a0b7-47f1-b563-6b2a3783840f"
      },
      "source": [
        "# Stacking: Random Oversampling"
      ]
    },
    {
      "cell_type": "code",
      "execution_count": null,
      "id": "b6828747-f5a5-40c9-b592-d1d3b5f7d6fb",
      "metadata": {
        "id": "b6828747-f5a5-40c9-b592-d1d3b5f7d6fb",
        "outputId": "b6166ae5-fd1f-4fae-8e8a-37ff5bc9e7a4"
      },
      "outputs": [
        {
          "name": "stdout",
          "output_type": "stream",
          "text": [
            "Fit Time: 270.2329320908 seconds\n",
            "Classification Report:\n",
            "              precision    recall  f1-score   support\n",
            "\n",
            "           0       0.98      0.99      0.99      6787\n",
            "           1       0.05      0.01      0.02       136\n",
            "\n",
            "    accuracy                           0.97      6923\n",
            "   macro avg       0.51      0.50      0.50      6923\n",
            "weighted avg       0.96      0.97      0.97      6923\n",
            "\n",
            "Confusion Matrix:\n",
            "[[6746   41]\n",
            " [ 134    2]]\n"
          ]
        },
        {
          "data": {
            "image/png": "[encoded data removed]",
            "text/plain": [
              "<Figure size 800x600 with 2 Axes>"
            ]
          },
          "metadata": {},
          "output_type": "display_data"
        }
      ],
      "source": [
        "\n",
        "model_1 = RandomForestClassifier(n_estimators=100, random_state=42)\n",
        "model_2 = SVC(probability=True)\n",
        "model_3 = DecisionTreeClassifier(random_state=42)\n",
        "model_4 = KNeighborsClassifier()\n",
        "\n",
        "ensemble_2 = EnsembleVoteClassifier(clfs=[model_1,model_2,model_3,model_4],voting='hard')  # 'hard' voting combines predictions by majority voting\n",
        "\n",
        "start_time = time.time()\n",
        "\n",
        "ensemble_2.fit(X_train_over, y_train_over)\n",
        "\n",
        "fit_time = time.time() - start_time\n",
        "print(f\"Fit Time: {fit_time:.10f} seconds\")\n",
        "\n",
        "y_pred = ensemble_2.predict(X_test_sc)\n",
        "\n",
        "print(\"Classification Report:\")\n",
        "print(classification_report(y_test, y_pred))\n",
        "\n",
        "conf_matrix = confusion_matrix(y_test, y_pred)\n",
        "\n",
        "print(\"Confusion Matrix:\")\n",
        "print(conf_matrix)\n",
        "\n",
        "plt.figure(figsize=(8, 6))\n",
        "sns.heatmap(conf_matrix, annot=True, cmap='Blues', fmt='d')\n",
        "\n",
        "plt.xlabel('Predicted labels')\n",
        "plt.ylabel('True labels')\n",
        "plt.title('Confusion Matrix')\n",
        "plt.show()"
      ]
    },
    {
      "cell_type": "code",
      "execution_count": null,
      "id": "247720e0-5c7c-46da-8501-6bb29728d8e3",
      "metadata": {
        "id": "247720e0-5c7c-46da-8501-6bb29728d8e3"
      },
      "outputs": [],
      "source": [
        "\n",
        "y_ens_2 =ensemble_2.predict_proba(X_test_sc)\n",
        "\n",
        "y_ens_2_class_1 = y_ens_2[:, 1]\n"
      ]
    },
    {
      "cell_type": "code",
      "execution_count": null,
      "id": "95b2e98a-8b47-4d77-8712-4e6197483314",
      "metadata": {
        "id": "95b2e98a-8b47-4d77-8712-4e6197483314",
        "outputId": "dd95eba2-ebb4-47a4-9393-2c0f8b701c72"
      },
      "outputs": [
        {
          "name": "stdout",
          "output_type": "stream",
          "text": [
            "AUC-ROC_1: 0.806302490054516\n"
          ]
        }
      ],
      "source": [
        "\n",
        "auc = roc_auc_score(y_test,y_ens_2_class_1)\n",
        "print(f\"AUC-ROC_1: {auc}\")\n"
      ]
    },
    {
      "cell_type": "code",
      "execution_count": null,
      "id": "f0e479f9-941e-4cce-a07f-213ecff19dec",
      "metadata": {
        "id": "f0e479f9-941e-4cce-a07f-213ecff19dec"
      },
      "outputs": [],
      "source": []
    },
    {
      "cell_type": "code",
      "execution_count": null,
      "id": "a47f2073-bf29-419c-8790-50c4c8db9e12",
      "metadata": {
        "id": "a47f2073-bf29-419c-8790-50c4c8db9e12",
        "outputId": "811f9421-6aa1-4948-9d77-1233c238f42b"
      },
      "outputs": [
        {
          "name": "stdout",
          "output_type": "stream",
          "text": [
            "Fit Time: 5.8012692928 seconds\n",
            "Classification Report:\n",
            "              precision    recall  f1-score   support\n",
            "\n",
            "           0       0.99      0.84      0.91      6787\n",
            "           1       0.07      0.61      0.13       136\n",
            "\n",
            "    accuracy                           0.84      6923\n",
            "   macro avg       0.53      0.72      0.52      6923\n",
            "weighted avg       0.97      0.84      0.89      6923\n",
            "\n",
            "Confusion Matrix:\n",
            "[[5699 1088]\n",
            " [  53   83]]\n"
          ]
        },
        {
          "data": {
            "image/png": "[encoded data removed]",
            "text/plain": [
              "<Figure size 800x600 with 2 Axes>"
            ]
          },
          "metadata": {},
          "output_type": "display_data"
        }
      ],
      "source": [
        "\n",
        "model1 = GradientBoostingClassifier(n_estimators=100, random_state=42)\n",
        "model2 = AdaBoostClassifier(n_estimators=100, random_state=42)\n",
        "model3 = XGBClassifier(n_estimators=100, random_state=42)\n",
        "model4 = LGBMClassifier(n_estimators=100, random_state=42, verbose=-1)\n",
        "model5 = CatBoostClassifier(iterations=100, random_state=42, verbose=False)\n",
        "\n",
        "ensemble_3 = EnsembleVoteClassifier(clfs=[model1, model2, model3, model4, model5])\n",
        "\n",
        "start_time = time.time()\n",
        "\n",
        "ensemble_3.fit(X_train_over, y_train_over)\n",
        "\n",
        "fit_time = time.time() - start_time\n",
        "print(f\"Fit Time: {fit_time:.10f} seconds\")\n",
        "\n",
        "y_pred = ensemble_3.predict(X_test_sc)\n",
        "\n",
        "print(\"Classification Report:\")\n",
        "print(classification_report(y_test, y_pred))\n",
        "\n",
        "conf_matrix = confusion_matrix(y_test, y_pred)\n",
        "\n",
        "print(\"Confusion Matrix:\")\n",
        "\n",
        "print(conf_matrix)\n",
        "\n",
        "plt.figure(figsize=(8, 6))\n",
        "sns.heatmap(conf_matrix, annot=True, cmap='Blues', fmt='d')\n",
        "\n",
        "plt.xlabel('Predicted labels')\n",
        "plt.ylabel('True labels')\n",
        "plt.title('Confusion Matrix')\n",
        "plt.show()"
      ]
    },
    {
      "cell_type": "code",
      "execution_count": null,
      "id": "1867103d-6863-4a24-84d7-1f41142a3a6d",
      "metadata": {
        "id": "1867103d-6863-4a24-84d7-1f41142a3a6d",
        "outputId": "d608099e-ff60-4ce1-b36d-97e36efbb7d7"
      },
      "outputs": [
        {
          "name": "stdout",
          "output_type": "stream",
          "text": [
            "AUC-ROC_1: 0.8265585591832136\n"
          ]
        }
      ],
      "source": [
        "y_ens_3 =ensemble_3.predict_proba(X_test_sc)\n",
        "\n",
        "y_ens_3_class_1 = y_ens_3[:, 1]\n",
        "\n",
        "auc = roc_auc_score(y_test,y_ens_3_class_1)\n",
        "print(f\"AUC-ROC_1: {auc}\")\n"
      ]
    },
    {
      "cell_type": "code",
      "execution_count": null,
      "id": "2fb173e1-131d-4894-b0bc-2d8986d65d46",
      "metadata": {
        "id": "2fb173e1-131d-4894-b0bc-2d8986d65d46"
      },
      "outputs": [],
      "source": []
    },
    {
      "cell_type": "markdown",
      "id": "57d20829-a8db-44bd-a117-673fa56fe164",
      "metadata": {
        "id": "57d20829-a8db-44bd-a117-673fa56fe164"
      },
      "source": [
        "# Random Undersampling -  кросс-валидация"
      ]
    },
    {
      "cell_type": "code",
      "execution_count": null,
      "id": "bd823e53-9d87-4d8c-bc14-ea431339b3fe",
      "metadata": {
        "id": "bd823e53-9d87-4d8c-bc14-ea431339b3fe",
        "outputId": "aef2f061-3e0a-4e94-d1a6-4113ef20d7ff"
      },
      "outputs": [
        {
          "data": {
            "text/html": [
              "<div>\n",
              "<style scoped>\n",
              "    .dataframe tbody tr th:only-of-type {\n",
              "        vertical-align: middle;\n",
              "    }\n",
              "\n",
              "    .dataframe tbody tr th {\n",
              "        vertical-align: top;\n",
              "    }\n",
              "\n",
              "    .dataframe thead th {\n",
              "        text-align: right;\n",
              "    }\n",
              "</style>\n",
              "<table border=\"1\" class=\"dataframe\">\n",
              "  <thead>\n",
              "    <tr style=\"text-align: right;\">\n",
              "      <th></th>\n",
              "      <th>fit_time</th>\n",
              "      <th>score_time</th>\n",
              "      <th>accuracy</th>\n",
              "      <th>precision</th>\n",
              "      <th>recall</th>\n",
              "      <th>f1</th>\n",
              "    </tr>\n",
              "  </thead>\n",
              "  <tbody>\n",
              "    <tr>\n",
              "      <th>CatBoostClassifier</th>\n",
              "      <td>4.279443</td>\n",
              "      <td>0.008701</td>\n",
              "      <td>0.769901</td>\n",
              "      <td>0.777739</td>\n",
              "      <td>0.769745</td>\n",
              "      <td>0.768005</td>\n",
              "    </tr>\n",
              "    <tr>\n",
              "      <th>AdaBoostClassifier</th>\n",
              "      <td>0.091602</td>\n",
              "      <td>0.011600</td>\n",
              "      <td>0.740941</td>\n",
              "      <td>0.748827</td>\n",
              "      <td>0.740804</td>\n",
              "      <td>0.738507</td>\n",
              "    </tr>\n",
              "    <tr>\n",
              "      <th>XGBClassifier</th>\n",
              "      <td>0.172833</td>\n",
              "      <td>0.005000</td>\n",
              "      <td>0.734079</td>\n",
              "      <td>0.737689</td>\n",
              "      <td>0.733941</td>\n",
              "      <td>0.732914</td>\n",
              "    </tr>\n",
              "    <tr>\n",
              "      <th>LGBMClassifier</th>\n",
              "      <td>0.629500</td>\n",
              "      <td>0.006501</td>\n",
              "      <td>0.758950</td>\n",
              "      <td>0.763315</td>\n",
              "      <td>0.758843</td>\n",
              "      <td>0.757883</td>\n",
              "    </tr>\n",
              "    <tr>\n",
              "      <th>GradientBoostingClassifier</th>\n",
              "      <td>0.186103</td>\n",
              "      <td>0.004698</td>\n",
              "      <td>0.748970</td>\n",
              "      <td>0.756885</td>\n",
              "      <td>0.748804</td>\n",
              "      <td>0.746813</td>\n",
              "    </tr>\n",
              "  </tbody>\n",
              "</table>\n",
              "</div>"
            ],
            "text/plain": [
              "                            fit_time  score_time  accuracy  precision  \\\n",
              "CatBoostClassifier          4.279443    0.008701  0.769901   0.777739   \n",
              "AdaBoostClassifier          0.091602    0.011600  0.740941   0.748827   \n",
              "XGBClassifier               0.172833    0.005000  0.734079   0.737689   \n",
              "LGBMClassifier              0.629500    0.006501  0.758950   0.763315   \n",
              "GradientBoostingClassifier  0.186103    0.004698  0.748970   0.756885   \n",
              "\n",
              "                              recall        f1  \n",
              "CatBoostClassifier          0.769745  0.768005  \n",
              "AdaBoostClassifier          0.740804  0.738507  \n",
              "XGBClassifier               0.733941  0.732914  \n",
              "LGBMClassifier              0.758843  0.757883  \n",
              "GradientBoostingClassifier  0.748804  0.746813  "
            ]
          },
          "execution_count": 50,
          "metadata": {},
          "output_type": "execute_result"
        }
      ],
      "source": [
        "list_of_models = [\n",
        "        CatBoostClassifier(),#boosting\n",
        "        AdaBoostClassifier(),#boosting\n",
        "        XGBClassifier(),#boosting\n",
        "        LGBMClassifier(),#boosting\n",
        "        GradientBoostingClassifier()] #boosting\n",
        "\n",
        "#Эта строка создает список имен моделей в list_of_models.\n",
        "#Для каждой модели x в list_of_models она использует функцию type(x).__name__, которая возвращает строковое имя класса объекта.\n",
        "#Например, если модель - CatBoostClassifier(), type(x).__name__ вернет строку 'CatBoostClassifier'.\n",
        "list_of_model_names = [type(x).__name__ for x in list_of_models]\n",
        "\n",
        "cv_results = pd.DataFrame(\n",
        "        data=0.0,\n",
        "        index=list_of_model_names,\n",
        "        columns=['fit_time', 'score_time', 'accuracy', 'precision', 'recall', 'f1'])\n",
        "\n",
        "scoring = {\n",
        "    'accuracy': make_scorer(accuracy_score),\n",
        "    'precision': make_scorer(precision_score, average='macro'),\n",
        "    'recall': make_scorer(recall_score, average='macro'),\n",
        "    'f1': make_scorer(f1_score, average='macro')\n",
        "}\n",
        "\n",
        "for model in list_of_models:\n",
        "    cv_result = cross_validate(\n",
        "        estimator=model,\n",
        "        X=X_train_under,\n",
        "        y=y_train_under,\n",
        "        scoring=scoring,\n",
        "        cv=10,\n",
        "        n_jobs=-1)\n",
        "\n",
        "    cv_results.loc[type(model).__name__] = list(map(np.mean, cv_result.values()))\n",
        "\n",
        "cv_results"
      ]
    },
    {
      "cell_type": "code",
      "execution_count": null,
      "id": "2bdf2494-9963-459b-9a5a-89bc9e33325a",
      "metadata": {
        "id": "2bdf2494-9963-459b-9a5a-89bc9e33325a",
        "outputId": "e89c5c90-2fd7-4c55-9a63-a6b75a4f5103"
      },
      "outputs": [
        {
          "data": {
            "text/html": [
              "<div>\n",
              "<style scoped>\n",
              "    .dataframe tbody tr th:only-of-type {\n",
              "        vertical-align: middle;\n",
              "    }\n",
              "\n",
              "    .dataframe tbody tr th {\n",
              "        vertical-align: top;\n",
              "    }\n",
              "\n",
              "    .dataframe thead th {\n",
              "        text-align: right;\n",
              "    }\n",
              "</style>\n",
              "<table border=\"1\" class=\"dataframe\">\n",
              "  <thead>\n",
              "    <tr style=\"text-align: right;\">\n",
              "      <th></th>\n",
              "      <th>fit_time</th>\n",
              "      <th>score_time</th>\n",
              "      <th>accuracy</th>\n",
              "      <th>precision</th>\n",
              "      <th>recall</th>\n",
              "      <th>f1</th>\n",
              "    </tr>\n",
              "  </thead>\n",
              "  <tbody>\n",
              "    <tr>\n",
              "      <th>RandomForestClassifier</th>\n",
              "      <td>1.992305</td>\n",
              "      <td>0.072500</td>\n",
              "      <td>0.772871</td>\n",
              "      <td>0.780865</td>\n",
              "      <td>0.772706</td>\n",
              "      <td>0.770889</td>\n",
              "    </tr>\n",
              "    <tr>\n",
              "      <th>SVC</th>\n",
              "      <td>0.114996</td>\n",
              "      <td>0.039606</td>\n",
              "      <td>0.766911</td>\n",
              "      <td>0.772646</td>\n",
              "      <td>0.766765</td>\n",
              "      <td>0.765536</td>\n",
              "    </tr>\n",
              "    <tr>\n",
              "      <th>DecisionTreeClassifier</th>\n",
              "      <td>0.045886</td>\n",
              "      <td>0.006421</td>\n",
              "      <td>0.734030</td>\n",
              "      <td>0.736487</td>\n",
              "      <td>0.733863</td>\n",
              "      <td>0.733037</td>\n",
              "    </tr>\n",
              "    <tr>\n",
              "      <th>KNeighborsClassifier</th>\n",
              "      <td>0.009271</td>\n",
              "      <td>0.205299</td>\n",
              "      <td>0.720050</td>\n",
              "      <td>0.723580</td>\n",
              "      <td>0.719882</td>\n",
              "      <td>0.718890</td>\n",
              "    </tr>\n",
              "  </tbody>\n",
              "</table>\n",
              "</div>"
            ],
            "text/plain": [
              "                        fit_time  score_time  accuracy  precision    recall  \\\n",
              "RandomForestClassifier  1.992305    0.072500  0.772871   0.780865  0.772706   \n",
              "SVC                     0.114996    0.039606  0.766911   0.772646  0.766765   \n",
              "DecisionTreeClassifier  0.045886    0.006421  0.734030   0.736487  0.733863   \n",
              "KNeighborsClassifier    0.009271    0.205299  0.720050   0.723580  0.719882   \n",
              "\n",
              "                              f1  \n",
              "RandomForestClassifier  0.770889  \n",
              "SVC                     0.765536  \n",
              "DecisionTreeClassifier  0.733037  \n",
              "KNeighborsClassifier    0.718890  "
            ]
          },
          "execution_count": 51,
          "metadata": {},
          "output_type": "execute_result"
        }
      ],
      "source": [
        "base_classifiers = [\n",
        "    RandomForestClassifier(),\n",
        "    SVC(),\n",
        "    DecisionTreeClassifier(),\n",
        "    KNeighborsClassifier()\n",
        "]\n",
        "\n",
        "list_of_model_names = [type(x).__name__ for x in base_classifiers]\n",
        "\n",
        "cv_results = pd.DataFrame(\n",
        "    data=0.0,\n",
        "    index=list_of_model_names,\n",
        "    columns=['fit_time', 'score_time', 'accuracy', 'precision', 'recall', 'f1']\n",
        ")\n",
        "\n",
        "scoring = {\n",
        "    'accuracy': make_scorer(accuracy_score),\n",
        "    'precision': make_scorer(precision_score, average='macro'),\n",
        "    'recall': make_scorer(recall_score, average='macro'),\n",
        "    'f1': make_scorer(f1_score, average='macro')\n",
        "}\n",
        "\n",
        "for model, model_name in zip(base_classifiers, list_of_model_names):\n",
        "    bagging = BaggingClassifier(base_estimator=model)\n",
        "    cv_result = cross_validate(\n",
        "        estimator=bagging,\n",
        "        X=X_train_under,\n",
        "        y=y_train_under,\n",
        "        scoring=scoring,\n",
        "        cv=10,\n",
        "        n_jobs=-1\n",
        "    )\n",
        "\n",
        "    cv_results.loc[model_name] = list(map(np.mean, cv_result.values()))\n",
        "\n",
        "cv_results"
      ]
    }
  ],
  "metadata": {
    "colab": {
      "provenance": []
    },
    "kernelspec": {
      "display_name": "Python 3 (ipykernel)",
      "language": "python",
      "name": "python3"
    },
    "language_info": {
      "codemirror_mode": {
        "name": "ipython",
        "version": 3
      },
      "file_extension": ".py",
      "mimetype": "text/x-python",
      "name": "python",
      "nbconvert_exporter": "python",
      "pygments_lexer": "ipython3",
      "version": "3.9.18"
    }
  },
  "nbformat": 4,
  "nbformat_minor": 5
}